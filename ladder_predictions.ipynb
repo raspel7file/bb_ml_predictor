{
 "cells": [
  {
   "cell_type": "markdown",
   "id": "6f1c4814-4214-4085-98a1-f7116e16e126",
   "metadata": {},
   "source": [
    "# Aims and goals\n",
    "1. To create ML-model, which can predict the result of \"Blood Bowl 3\" Official Ladder match. Predictors should be simple and available in game at the moment of a match start.\n",
    "2. To achieve better results, than random predicting.\n",
    "3. To ruin goblins-bookmakers."
   ]
  },
  {
   "cell_type": "markdown",
   "id": "f0b09e16-4dcd-4e85-889b-1d567853f298",
   "metadata": {},
   "source": [
    "# Selecting predictors, data preparing\n",
    "I choose following predictors:\n",
    "- team race (in-game faction);\n",
    "- opponent's team race;\n",
    "- team TV (Team Value, correlates with team strength);\n",
    "- opponent's team TV;\n",
    "- team rating (Skill Rating, correlates with coach skill);\n",
    "- opponent's team rating.\n",
    " \n",
    "Target: result (W - win, D - draw, L - loss). \n",
    "\n",
    "Target metric: accuracy (share of correctly predicted results). More correctly predictiond - better.\n",
    "\n",
    "Data colleted using Cyanide API, for training the model I gathered information about Official Ladder Seasons 1-5 results (all platforms), for testing I'll use results of partially finished 6th Season. Sadly, there are no public SR dynamics data, so this metric is recreated by myself using supposed SR formula (Elo rating with division-depended winstreak bonus).\n",
    "\n",
    "Each played match gave us 2 lines in dataset (from each team POV)."
   ]
  },
  {
   "cell_type": "markdown",
   "id": "a2a97165-0565-4ba9-90e5-0b5f6ddfea5a",
   "metadata": {},
   "source": [
    "# Loading libraries and datasets"
   ]
  },
  {
   "cell_type": "code",
   "execution_count": 1,
   "id": "ec0f9b6c-0844-4d83-b691-fc5ea09270a0",
   "metadata": {},
   "outputs": [],
   "source": [
    "import pandas as pd\n",
    "import numpy as np\n",
    "import optuna\n",
    "import os\n",
    "from sklearn.model_selection import train_test_split\n",
    "from sklearn.metrics import accuracy_score, classification_report\n",
    "from sklearn.utils.class_weight import compute_class_weight\n",
    "from catboost import CatBoostClassifier, Pool\n",
    "import matplotlib.pyplot as plt\n",
    "import seaborn as sns\n",
    "\n"
   ]
  },
  {
   "cell_type": "code",
   "execution_count": 2,
   "id": "d804d234-0a5d-40a7-9c12-737a518c30bb",
   "metadata": {},
   "outputs": [],
   "source": [
    "sns.set_theme(\n",
    "    style='whitegrid',\n",
    "    font_scale=2,\n",
    "    palette='dark',\n",
    "    rc={'figure.figsize': (9, 6)}\n",
    ")"
   ]
  },
  {
   "cell_type": "code",
   "execution_count": 11,
   "id": "5b064fa8-1af5-4ed2-972d-6a60883193da",
   "metadata": {},
   "outputs": [
    {
     "name": "stdout",
     "output_type": "stream",
     "text": [
      "<class 'pandas.core.frame.DataFrame'>\n",
      "RangeIndex: 1719248 entries, 0 to 1719247\n",
      "Data columns (total 10 columns):\n",
      " #   Column      Dtype  \n",
      "---  ------      -----  \n",
      " 0   id          object \n",
      " 1   race        object \n",
      " 2   opp_race    object \n",
      " 3   value       int64  \n",
      " 4   opp_value   int64  \n",
      " 5   rating      float64\n",
      " 6   opp_rating  float64\n",
      " 7   if_concede  int64  \n",
      " 8   if_leaver   int64  \n",
      " 9   result      object \n",
      "dtypes: float64(2), int64(4), object(4)\n",
      "memory usage: 131.2+ MB\n"
     ]
    }
   ],
   "source": [
    "df1 = pd.read_csv(\"https://drive.google.com/uc?id=1xTXrmVQgyPIomVoaymtiCLzRHL-bVN95\")\n",
    "df2 = pd.read_csv(\"https://drive.google.com/uc?id=1mP2uLHxt0f0z1vzaHSZnZSH7n_L8QzX0\")\n",
    "df3 = pd.read_csv(\"https://drive.google.com/uc?id=1wvgRlDCYk08FSx4JHMpFoM7XWQPOYajT\")\n",
    "df4 = pd.read_csv(\"https://drive.google.com/uc?id=1CP9RjDihuCr9uT2y1uMKZUt6MS0GrQYC\")\n",
    "df5 = pd.read_csv(\"https://drive.google.com/uc?id=1EvOyJn9yNqHJjggZQ-I6smeHsRL6fN2w\")\n",
    "df6 = pd.read_csv(\"https://drive.google.com/uc?id=1y3_inp1CGhhqsnONtH8nzShbemeU7PZm\")\n",
    "df = pd.concat([df1, df2, df3, df4, df5, df6], ignore_index=True)\n",
    "df.info() # That's our training dataset"
   ]
  },
  {
   "cell_type": "code",
   "execution_count": 12,
   "id": "1e2e983c-7bcc-4f61-a24a-93a75b72a660",
   "metadata": {},
   "outputs": [
    {
     "data": {
      "text/html": [
       "<div>\n",
       "<style scoped>\n",
       "    .dataframe tbody tr th:only-of-type {\n",
       "        vertical-align: middle;\n",
       "    }\n",
       "\n",
       "    .dataframe tbody tr th {\n",
       "        vertical-align: top;\n",
       "    }\n",
       "\n",
       "    .dataframe thead th {\n",
       "        text-align: right;\n",
       "    }\n",
       "</style>\n",
       "<table border=\"1\" class=\"dataframe\">\n",
       "  <thead>\n",
       "    <tr style=\"text-align: right;\">\n",
       "      <th></th>\n",
       "      <th>id</th>\n",
       "      <th>race</th>\n",
       "      <th>opp_race</th>\n",
       "      <th>value</th>\n",
       "      <th>opp_value</th>\n",
       "      <th>rating</th>\n",
       "      <th>opp_rating</th>\n",
       "      <th>if_concede</th>\n",
       "      <th>if_leaver</th>\n",
       "      <th>result</th>\n",
       "    </tr>\n",
       "  </thead>\n",
       "  <tbody>\n",
       "    <tr>\n",
       "      <th>1384911</th>\n",
       "      <td>714a899d-280d-11ef-9178-bc24112ec32e</td>\n",
       "      <td>orc</td>\n",
       "      <td>orc</td>\n",
       "      <td>995</td>\n",
       "      <td>1000</td>\n",
       "      <td>1000.0</td>\n",
       "      <td>1000.0</td>\n",
       "      <td>0</td>\n",
       "      <td>0</td>\n",
       "      <td>W</td>\n",
       "    </tr>\n",
       "    <tr>\n",
       "      <th>127674</th>\n",
       "      <td>adc16d42-2c6e-11ee-af36-020000a4d571</td>\n",
       "      <td>human</td>\n",
       "      <td>elvenUnion</td>\n",
       "      <td>1570</td>\n",
       "      <td>1485</td>\n",
       "      <td>1162.0</td>\n",
       "      <td>1279.0</td>\n",
       "      <td>0</td>\n",
       "      <td>0</td>\n",
       "      <td>D</td>\n",
       "    </tr>\n",
       "    <tr>\n",
       "      <th>1463737</th>\n",
       "      <td>2bb67ab6-2481-11ee-b762-020000d1a054</td>\n",
       "      <td>human</td>\n",
       "      <td>chaosChosen</td>\n",
       "      <td>970</td>\n",
       "      <td>1000</td>\n",
       "      <td>1000.0</td>\n",
       "      <td>1000.0</td>\n",
       "      <td>0</td>\n",
       "      <td>0</td>\n",
       "      <td>D</td>\n",
       "    </tr>\n",
       "    <tr>\n",
       "      <th>1497038</th>\n",
       "      <td>ee22326c-97d0-11ee-b910-02000090a64f</td>\n",
       "      <td>chaosChosen</td>\n",
       "      <td>orc</td>\n",
       "      <td>940</td>\n",
       "      <td>1185</td>\n",
       "      <td>1000.0</td>\n",
       "      <td>1421.0</td>\n",
       "      <td>0</td>\n",
       "      <td>0</td>\n",
       "      <td>W</td>\n",
       "    </tr>\n",
       "    <tr>\n",
       "      <th>75039</th>\n",
       "      <td>f2f15178-3758-11ee-af36-020000a4d571</td>\n",
       "      <td>blackOrc</td>\n",
       "      <td>dwarf</td>\n",
       "      <td>1470</td>\n",
       "      <td>1420</td>\n",
       "      <td>1169.0</td>\n",
       "      <td>1217.0</td>\n",
       "      <td>0</td>\n",
       "      <td>0</td>\n",
       "      <td>W</td>\n",
       "    </tr>\n",
       "    <tr>\n",
       "      <th>1434158</th>\n",
       "      <td>3d05f7a5-3cfc-11ee-b762-020000d1a054</td>\n",
       "      <td>lizardman</td>\n",
       "      <td>chaosChosen</td>\n",
       "      <td>1185</td>\n",
       "      <td>1260</td>\n",
       "      <td>1141.0</td>\n",
       "      <td>1000.0</td>\n",
       "      <td>0</td>\n",
       "      <td>0</td>\n",
       "      <td>W</td>\n",
       "    </tr>\n",
       "  </tbody>\n",
       "</table>\n",
       "</div>"
      ],
      "text/plain": [
       "                                           id         race     opp_race  \\\n",
       "1384911  714a899d-280d-11ef-9178-bc24112ec32e          orc          orc   \n",
       "127674   adc16d42-2c6e-11ee-af36-020000a4d571        human   elvenUnion   \n",
       "1463737  2bb67ab6-2481-11ee-b762-020000d1a054        human  chaosChosen   \n",
       "1497038  ee22326c-97d0-11ee-b910-02000090a64f  chaosChosen          orc   \n",
       "75039    f2f15178-3758-11ee-af36-020000a4d571     blackOrc        dwarf   \n",
       "1434158  3d05f7a5-3cfc-11ee-b762-020000d1a054    lizardman  chaosChosen   \n",
       "\n",
       "         value  opp_value  rating  opp_rating  if_concede  if_leaver result  \n",
       "1384911    995       1000  1000.0      1000.0           0          0      W  \n",
       "127674    1570       1485  1162.0      1279.0           0          0      D  \n",
       "1463737    970       1000  1000.0      1000.0           0          0      D  \n",
       "1497038    940       1185  1000.0      1421.0           0          0      W  \n",
       "75039     1470       1420  1169.0      1217.0           0          0      W  \n",
       "1434158   1185       1260  1141.0      1000.0           0          0      W  "
      ]
     },
     "execution_count": 12,
     "metadata": {},
     "output_type": "execute_result"
    }
   ],
   "source": [
    "df.sample(6)"
   ]
  },
  {
   "cell_type": "code",
   "execution_count": 13,
   "id": "f84091b8-22fe-45d0-a1a4-68c584167740",
   "metadata": {},
   "outputs": [
    {
     "name": "stdout",
     "output_type": "stream",
     "text": [
      "<class 'pandas.core.frame.DataFrame'>\n",
      "Index: 223428 entries, 0 to 272347\n",
      "Data columns (total 10 columns):\n",
      " #   Column      Non-Null Count   Dtype  \n",
      "---  ------      --------------   -----  \n",
      " 0   id          223428 non-null  object \n",
      " 1   race        223428 non-null  object \n",
      " 2   opp_race    223428 non-null  object \n",
      " 3   value       223428 non-null  int64  \n",
      " 4   opp_value   223428 non-null  int64  \n",
      " 5   rating      223428 non-null  float64\n",
      " 6   opp_rating  223428 non-null  float64\n",
      " 7   if_concede  223428 non-null  int64  \n",
      " 8   if_leaver   223428 non-null  int64  \n",
      " 9   result      223428 non-null  object \n",
      "dtypes: float64(2), int64(4), object(4)\n",
      "memory usage: 18.8+ MB\n"
     ]
    }
   ],
   "source": [
    "# Test dataset with partial Season 6 results. Remove Goblins and Halflings\n",
    "# (introduced at Season 6, non-present at training dataset)\n",
    "test_df = pd.read_csv(r\"https://drive.google.com/uc?id=1nxWXQy4wSgEDvGf7Gn-zctFi5oFfkVT8\")\n",
    "test_df = test_df[\n",
    "    ~test_df['race'].isin(['goblin', 'halfling']) & \n",
    "    ~test_df['opp_race'].isin(['goblin', 'halfling'])\n",
    "]\n",
    "test_df.info()"
   ]
  },
  {
   "cell_type": "code",
   "execution_count": 14,
   "id": "2ec50404-97a0-44d3-94d3-0b0a974efb54",
   "metadata": {},
   "outputs": [
    {
     "name": "stdout",
     "output_type": "stream",
     "text": [
      "\n",
      "percent of wins: 40.6%\n",
      "percent of draws: 18.9%\n",
      "percent of losses: 40.6%\n",
      "\n"
     ]
    },
    {
     "data": {
      "image/png": "[encoded data removed]",
      "text/plain": [
       "<Figure size 900x600 with 1 Axes>"
      ]
     },
     "metadata": {},
     "output_type": "display_data"
    }
   ],
   "source": [
    "# Let's look at results distribution\n",
    "test_class_counts = test_df['result'].value_counts(normalize=True)\n",
    "W_weight = test_class_counts.W\n",
    "D_weight = test_class_counts.D\n",
    "L_weight = test_class_counts.L\n",
    "print(f\"\"\"\n",
    "percent of wins: {W_weight:.1%}\n",
    "percent of draws: {D_weight:.1%}\n",
    "percent of losses: {L_weight:.1%}\n",
    "\"\"\")\n",
    "sns.barplot(x=test_class_counts.index, y=test_class_counts.values)\n",
    "plt.title('Distribution of Results')\n",
    "plt.xlabel('Results')\n",
    "plt.ylabel('Share of Results')\n",
    "sns.despine()"
   ]
  },
  {
   "cell_type": "code",
   "execution_count": 15,
   "id": "040093e5-c5e5-4e40-8720-7ceecfdbeb94",
   "metadata": {},
   "outputs": [
    {
     "data": {
      "text/html": [
       "<div>\n",
       "<style scoped>\n",
       "    .dataframe tbody tr th:only-of-type {\n",
       "        vertical-align: middle;\n",
       "    }\n",
       "\n",
       "    .dataframe tbody tr th {\n",
       "        vertical-align: top;\n",
       "    }\n",
       "\n",
       "    .dataframe thead th {\n",
       "        text-align: right;\n",
       "    }\n",
       "</style>\n",
       "<table border=\"1\" class=\"dataframe\">\n",
       "  <thead>\n",
       "    <tr style=\"text-align: right;\">\n",
       "      <th></th>\n",
       "      <th>id</th>\n",
       "      <th>race</th>\n",
       "      <th>opp_race</th>\n",
       "      <th>value</th>\n",
       "      <th>opp_value</th>\n",
       "      <th>rating</th>\n",
       "      <th>opp_rating</th>\n",
       "      <th>if_concede</th>\n",
       "      <th>if_leaver</th>\n",
       "      <th>result</th>\n",
       "      <th>random_result</th>\n",
       "    </tr>\n",
       "  </thead>\n",
       "  <tbody>\n",
       "    <tr>\n",
       "      <th>0</th>\n",
       "      <td>4c847c6a-a673-11ef-aaf1-bc24112ec32e</td>\n",
       "      <td>woodElf</td>\n",
       "      <td>skaven</td>\n",
       "      <td>980</td>\n",
       "      <td>985</td>\n",
       "      <td>1000.0</td>\n",
       "      <td>1000.0</td>\n",
       "      <td>1</td>\n",
       "      <td>0</td>\n",
       "      <td>W</td>\n",
       "      <td>L</td>\n",
       "    </tr>\n",
       "    <tr>\n",
       "      <th>1</th>\n",
       "      <td>4c847c6a-a673-11ef-aaf1-bc24112ec32e</td>\n",
       "      <td>skaven</td>\n",
       "      <td>woodElf</td>\n",
       "      <td>985</td>\n",
       "      <td>980</td>\n",
       "      <td>1000.0</td>\n",
       "      <td>1000.0</td>\n",
       "      <td>1</td>\n",
       "      <td>1</td>\n",
       "      <td>L</td>\n",
       "      <td>W</td>\n",
       "    </tr>\n",
       "    <tr>\n",
       "      <th>2</th>\n",
       "      <td>13b8cc3e-a673-11ef-aaf1-bc24112ec32e</td>\n",
       "      <td>shamblingUndead</td>\n",
       "      <td>orc</td>\n",
       "      <td>1060</td>\n",
       "      <td>880</td>\n",
       "      <td>1588.0</td>\n",
       "      <td>1632.0</td>\n",
       "      <td>1</td>\n",
       "      <td>0</td>\n",
       "      <td>W</td>\n",
       "      <td>W</td>\n",
       "    </tr>\n",
       "    <tr>\n",
       "      <th>3</th>\n",
       "      <td>13b8cc3e-a673-11ef-aaf1-bc24112ec32e</td>\n",
       "      <td>orc</td>\n",
       "      <td>shamblingUndead</td>\n",
       "      <td>880</td>\n",
       "      <td>1060</td>\n",
       "      <td>1632.0</td>\n",
       "      <td>1588.0</td>\n",
       "      <td>1</td>\n",
       "      <td>1</td>\n",
       "      <td>L</td>\n",
       "      <td>L</td>\n",
       "    </tr>\n",
       "    <tr>\n",
       "      <th>4</th>\n",
       "      <td>ed363543-a672-11ef-aaf1-bc24112ec32e</td>\n",
       "      <td>oldWorldAlliance</td>\n",
       "      <td>orc</td>\n",
       "      <td>980</td>\n",
       "      <td>1000</td>\n",
       "      <td>1000.0</td>\n",
       "      <td>1000.0</td>\n",
       "      <td>1</td>\n",
       "      <td>1</td>\n",
       "      <td>L</td>\n",
       "      <td>W</td>\n",
       "    </tr>\n",
       "    <tr>\n",
       "      <th>5</th>\n",
       "      <td>ed363543-a672-11ef-aaf1-bc24112ec32e</td>\n",
       "      <td>orc</td>\n",
       "      <td>oldWorldAlliance</td>\n",
       "      <td>1000</td>\n",
       "      <td>980</td>\n",
       "      <td>1000.0</td>\n",
       "      <td>1000.0</td>\n",
       "      <td>1</td>\n",
       "      <td>0</td>\n",
       "      <td>W</td>\n",
       "      <td>L</td>\n",
       "    </tr>\n",
       "  </tbody>\n",
       "</table>\n",
       "</div>"
      ],
      "text/plain": [
       "                                     id              race          opp_race  \\\n",
       "0  4c847c6a-a673-11ef-aaf1-bc24112ec32e           woodElf            skaven   \n",
       "1  4c847c6a-a673-11ef-aaf1-bc24112ec32e            skaven           woodElf   \n",
       "2  13b8cc3e-a673-11ef-aaf1-bc24112ec32e   shamblingUndead               orc   \n",
       "3  13b8cc3e-a673-11ef-aaf1-bc24112ec32e               orc   shamblingUndead   \n",
       "4  ed363543-a672-11ef-aaf1-bc24112ec32e  oldWorldAlliance               orc   \n",
       "5  ed363543-a672-11ef-aaf1-bc24112ec32e               orc  oldWorldAlliance   \n",
       "\n",
       "   value  opp_value  rating  opp_rating  if_concede  if_leaver result  \\\n",
       "0    980        985  1000.0      1000.0           1          0      W   \n",
       "1    985        980  1000.0      1000.0           1          1      L   \n",
       "2   1060        880  1588.0      1632.0           1          0      W   \n",
       "3    880       1060  1632.0      1588.0           1          1      L   \n",
       "4    980       1000  1000.0      1000.0           1          1      L   \n",
       "5   1000        980  1000.0      1000.0           1          0      W   \n",
       "\n",
       "  random_result  \n",
       "0             L  \n",
       "1             W  \n",
       "2             W  \n",
       "3             L  \n",
       "4             W  \n",
       "5             L  "
      ]
     },
     "execution_count": 15,
     "metadata": {},
     "output_type": "execute_result"
    }
   ],
   "source": [
    "# Only about 1/6th of all games end in a draw. Keeping this in mind, add random results \n",
    "# (for comparing with our future predictions)\n",
    "for row in test_df.itertuples():\n",
    "    if row.Index % 2 == 0:\n",
    "        test_df.loc[row.Index, 'random_result'] = np.random.choice(\n",
    "            ['W', 'D', 'L'],\n",
    "            p=[W_weight, D_weight, L_weight])\n",
    "    else:\n",
    "        if test_df.loc[row.Index - 1, 'random_result'] == 'W':\n",
    "            test_df.loc[row.Index, 'random_result'] = 'L'\n",
    "        elif test_df.loc[row.Index - 1, 'random_result'] == 'L':\n",
    "            test_df.loc[row.Index, 'random_result'] = 'W'\n",
    "        else:\n",
    "            test_df.loc[row.Index, 'random_result'] = 'D'\n",
    "\n",
    "test_df.head(6)"
   ]
  },
  {
   "cell_type": "code",
   "execution_count": 16,
   "id": "6997fa3c-3e0f-4532-82d9-dccf39d782ec",
   "metadata": {},
   "outputs": [
    {
     "name": "stdout",
     "output_type": "stream",
     "text": [
      "Accuracy with random (with actual draw share) predicting results: 36.4%\n"
     ]
    }
   ],
   "source": [
    "random_accuracy = accuracy_score(test_df.result, test_df.random_result)\n",
    "print(f'Accuracy with random (with actual draw share) predicting results: {random_accuracy:.1%}')"
   ]
  },
  {
   "cell_type": "markdown",
   "id": "e38188c8-77a2-4e80-af42-cb0c92103b0a",
   "metadata": {},
   "source": [
    "# Choosing model\n",
    "## Model 1.1 - without class weights"
   ]
  },
  {
   "cell_type": "code",
   "execution_count": 17,
   "id": "3db1c5c8-0cad-443e-9210-4f2045b27d89",
   "metadata": {},
   "outputs": [],
   "source": [
    "CAT_FEATURES = [\n",
    "    'race',\n",
    "    'opp_race'\n",
    "]\n",
    "\n",
    "FEATURES = [\n",
    "    'value',\n",
    "    'opp_value',\n",
    "    'rating',\n",
    "    'opp_rating'\n",
    "] + CAT_FEATURES\n",
    "\n",
    "TARGET = 'result'"
   ]
  },
  {
   "cell_type": "code",
   "execution_count": 21,
   "id": "1ec1a0fe-6fa8-4a26-bcfd-00b73f775470",
   "metadata": {},
   "outputs": [],
   "source": [
    "random_state = 1\n",
    "X_train_1_1, X_val_1_1, y_train_1_1, y_val_1_1 = train_test_split(df[FEATURES], df[TARGET], test_size=0.2, random_state=random_state)\n",
    "\n",
    "train_pool_1_1 = Pool(X_train_1_1, y_train_1_1, cat_features=CAT_FEATURES)\n",
    "eval_pool_1_1 = Pool(X_val_1_1, y_val_1_1, cat_features=CAT_FEATURES)"
   ]
  },
  {
   "cell_type": "code",
   "execution_count": 27,
   "id": "45c660e4-b81f-4580-a320-76329ef50269",
   "metadata": {},
   "outputs": [
    {
     "name": "stdout",
     "output_type": "stream",
     "text": [
      "0:\tlearn: 0.4659837\ttest: 0.4659648\tbest: 0.4659648 (0)\ttotal: 1.18s\tremaining: 1h 38m 34s\n",
      "100:\tlearn: 0.5019732\ttest: 0.5015792\tbest: 0.5015792 (100)\ttotal: 1m 31s\tremaining: 1h 14m 13s\n",
      "200:\tlearn: 0.5035401\ttest: 0.5027076\tbest: 0.5027454 (197)\ttotal: 3m 2s\tremaining: 1h 12m 28s\n",
      "300:\tlearn: 0.5042555\ttest: 0.5032979\tbest: 0.5033183 (285)\ttotal: 4m 31s\tremaining: 1h 10m 44s\n",
      "400:\tlearn: 0.5049200\ttest: 0.5036469\tbest: 0.5037604 (391)\ttotal: 5m 58s\tremaining: 1h 8m 34s\n",
      "500:\tlearn: 0.5054202\ttest: 0.5040657\tbest: 0.5040803 (478)\ttotal: 7m 25s\tremaining: 1h 6m 38s\n",
      "600:\tlearn: 0.5059968\ttest: 0.5042809\tbest: 0.5043275 (574)\ttotal: 8m 53s\tremaining: 1h 5m 6s\n",
      "700:\tlearn: 0.5063909\ttest: 0.5043217\tbest: 0.5044176 (664)\ttotal: 10m 25s\tremaining: 1h 3m 58s\n",
      "800:\tlearn: 0.5067573\ttest: 0.5042809\tbest: 0.5044671 (731)\ttotal: 12m\tremaining: 1h 2m 54s\n",
      "900:\tlearn: 0.5070867\ttest: 0.5041006\tbest: 0.5044671 (731)\ttotal: 13m 31s\tremaining: 1h 1m 32s\n",
      "1000:\tlearn: 0.5074080\ttest: 0.5042315\tbest: 0.5044671 (731)\ttotal: 15m 4s\tremaining: 1h 12s\n",
      "1100:\tlearn: 0.5077599\ttest: 0.5042897\tbest: 0.5044671 (731)\ttotal: 16m 37s\tremaining: 58m 53s\n",
      "1200:\tlearn: 0.5080958\ttest: 0.5042926\tbest: 0.5044671 (731)\ttotal: 18m 15s\tremaining: 57m 43s\n",
      "Stopped by overfitting detector  (500 iterations wait)\n",
      "\n",
      "bestTest = 0.5044670641\n",
      "bestIteration = 731\n",
      "\n",
      "Shrink model to first 732 iterations.\n"
     ]
    },
    {
     "data": {
      "text/plain": [
       "<catboost.core.CatBoostClassifier at 0x1a6bc1a0530>"
      ]
     },
     "execution_count": 27,
     "metadata": {},
     "output_type": "execute_result"
    }
   ],
   "source": [
    "model_1_1 = CatBoostClassifier(\n",
    "    iterations=5000,\n",
    "    learning_rate=0.1,\n",
    "    depth=6,\n",
    "    l2_leaf_reg=3,\n",
    "    bagging_temperature=1.0,\n",
    "    cat_features=CAT_FEATURES,\n",
    "    loss_function='MultiClass',\n",
    "    eval_metric='Accuracy',\n",
    "    random_seed=random_state,\n",
    "    verbose=100\n",
    ")\n",
    "model_1_1.fit(train_pool_1_1, eval_set=eval_pool_1_1, plot=False, verbose=100, use_best_model=True, early_stopping_rounds=500)"
   ]
  },
  {
   "cell_type": "code",
   "execution_count": 28,
   "id": "83ed40e3-0843-4442-a377-6c7d85b7f2e1",
   "metadata": {},
   "outputs": [],
   "source": [
    "# Save model\n",
    "model_1_1.save_model('model_1_1.cbm')"
   ]
  },
  {
   "cell_type": "code",
   "execution_count": 19,
   "id": "63f503cd-1a9c-4aa1-8379-eae78856092a",
   "metadata": {},
   "outputs": [
    {
     "data": {
      "text/plain": [
       "<catboost.core.CatBoostClassifier at 0x1cc00c5e120>"
      ]
     },
     "execution_count": 19,
     "metadata": {},
     "output_type": "execute_result"
    }
   ],
   "source": [
    "# If need, load model\n",
    "model_1_1 = CatBoostClassifier()\n",
    "model_1_1.load_model('model_1_1.cbm')"
   ]
  },
  {
   "cell_type": "code",
   "execution_count": 23,
   "id": "c29e559b-9cb3-4a59-854c-8930230126fc",
   "metadata": {},
   "outputs": [
    {
     "name": "stdout",
     "output_type": "stream",
     "text": [
      "Accuracy: 50.6%\n",
      "Classification Report:\n",
      "              precision    recall  f1-score   support\n",
      "\n",
      "           D       0.80      0.00      0.00     60156\n",
      "           L       0.51      0.61      0.55    141615\n",
      "           W       0.51      0.62      0.56    142079\n",
      "\n",
      "    accuracy                           0.51    343850\n",
      "   macro avg       0.60      0.41      0.37    343850\n",
      "weighted avg       0.56      0.51      0.46    343850\n",
      "\n"
     ]
    }
   ],
   "source": [
    "y_pred_1_1 = model_1_1.predict(X_val_1_1)\n",
    "accuracy_1_1 = accuracy_score(y_val_1_1, y_pred_1_1)\n",
    "print(f'Accuracy: {accuracy_1_1:.1%}')\n",
    "print(\"Classification Report:\")\n",
    "print(classification_report(y_val_1_1, y_pred_1_1))"
   ]
  },
  {
   "cell_type": "code",
   "execution_count": 24,
   "id": "503a5118-d3de-4750-b5f9-86b938419000",
   "metadata": {},
   "outputs": [
    {
     "name": "stdout",
     "output_type": "stream",
     "text": [
      "\n",
      "percent of wins: 50.3%\n",
      "percent of draws: 0.0%\n",
      "percent of losses: 49.7%\n",
      "\n"
     ]
    },
    {
     "data": {
      "image/png": "[encoded data removed]",
      "text/plain": [
       "<Figure size 900x600 with 1 Axes>"
      ]
     },
     "metadata": {},
     "output_type": "display_data"
    }
   ],
   "source": [
    "# Predicted results distribution\n",
    "class_counts = pd.Series(y_pred_1_1.flatten()).value_counts(normalize=False)\n",
    "sum_counts = class_counts.sum()\n",
    "W_weight = class_counts.W / sum_counts\n",
    "D_weight = class_counts.D / sum_counts\n",
    "L_weight = class_counts.L / sum_counts\n",
    "print(f\"\"\"\n",
    "percent of wins: {W_weight:.1%}\n",
    "percent of draws: {D_weight:.1%}\n",
    "percent of losses: {L_weight:.1%}\n",
    "\"\"\")\n",
    "\n",
    "ax = sns.barplot(x=class_counts.index, y=class_counts.values)\n",
    "plt.title('Distribution of Predicted Results (model 1.1)\\n')\n",
    "plt.xlabel('Results')\n",
    "plt.ylabel('Amount of Results')\n",
    "\n",
    "for p in ax.patches:\n",
    "    count = int(p.get_height())  \n",
    "    ax.annotate(f'{count}', \n",
    "                      (p.get_x() + p.get_width() / 2., p.get_height()), \n",
    "                      ha='center', va='bottom', \n",
    "                      fontsize=20, color='black', \n",
    "                      xytext=(0, 5),\n",
    "                      textcoords='offset points')\n",
    "    \n",
    "sns.despine()"
   ]
  },
  {
   "cell_type": "markdown",
   "id": "bee6d8fb-287f-4914-b75b-2afa619cce9e",
   "metadata": {},
   "source": [
    "Model almost doesn't predict draws, as a result recall(D) = 0. Let's check it with test data."
   ]
  },
  {
   "cell_type": "code",
   "execution_count": 54,
   "id": "a597d579-4ad5-4177-9f0a-3379b56438aa",
   "metadata": {},
   "outputs": [
    {
     "name": "stdout",
     "output_type": "stream",
     "text": [
      "<class 'pandas.core.frame.DataFrame'>\n",
      "Index: 223428 entries, 0 to 272347\n",
      "Data columns (total 12 columns):\n",
      " #   Column         Non-Null Count   Dtype  \n",
      "---  ------         --------------   -----  \n",
      " 0   value          223428 non-null  int64  \n",
      " 1   opp_value      223428 non-null  int64  \n",
      " 2   rating         223428 non-null  float64\n",
      " 3   opp_rating     223428 non-null  float64\n",
      " 4   race           223428 non-null  object \n",
      " 5   opp_race       223428 non-null  object \n",
      " 6   result         223428 non-null  object \n",
      " 7   random_result  223428 non-null  object \n",
      " 8   probability_D  223428 non-null  float64\n",
      " 9   probability_L  223428 non-null  float64\n",
      " 10  probability_W  223428 non-null  float64\n",
      " 11  prediction     223428 non-null  object \n",
      "dtypes: float64(5), int64(2), object(5)\n",
      "memory usage: 30.2+ MB\n"
     ]
    }
   ],
   "source": [
    "test_df_1_1 = test_df[FEATURES + ['result', 'random_result']].copy()\n",
    "probabilities = model_1_1.predict_proba(test_df_1_1[FEATURES])\n",
    "for i, class_name in enumerate(model_1_1.classes_):\n",
    "    test_df_1_1[f'probability_{class_name}'] = probabilities[:, i]\n",
    "test_df_1_1['prediction'] = model_1_1.predict(test_df_1_1[FEATURES]).flatten()\n",
    "test_df_1_1.info()"
   ]
  },
  {
   "cell_type": "code",
   "execution_count": 55,
   "id": "e55e3ec5-ad89-4e66-a306-5c4a77ece28c",
   "metadata": {},
   "outputs": [
    {
     "data": {
      "text/html": [
       "<div>\n",
       "<style scoped>\n",
       "    .dataframe tbody tr th:only-of-type {\n",
       "        vertical-align: middle;\n",
       "    }\n",
       "\n",
       "    .dataframe tbody tr th {\n",
       "        vertical-align: top;\n",
       "    }\n",
       "\n",
       "    .dataframe thead th {\n",
       "        text-align: right;\n",
       "    }\n",
       "</style>\n",
       "<table border=\"1\" class=\"dataframe\">\n",
       "  <thead>\n",
       "    <tr style=\"text-align: right;\">\n",
       "      <th></th>\n",
       "      <th>value</th>\n",
       "      <th>opp_value</th>\n",
       "      <th>rating</th>\n",
       "      <th>opp_rating</th>\n",
       "      <th>race</th>\n",
       "      <th>opp_race</th>\n",
       "      <th>result</th>\n",
       "      <th>random_result</th>\n",
       "      <th>probability_D</th>\n",
       "      <th>probability_L</th>\n",
       "      <th>probability_W</th>\n",
       "      <th>prediction</th>\n",
       "    </tr>\n",
       "  </thead>\n",
       "  <tbody>\n",
       "    <tr>\n",
       "      <th>0</th>\n",
       "      <td>980</td>\n",
       "      <td>985</td>\n",
       "      <td>1000.0</td>\n",
       "      <td>1000.0</td>\n",
       "      <td>woodElf</td>\n",
       "      <td>skaven</td>\n",
       "      <td>W</td>\n",
       "      <td>L</td>\n",
       "      <td>0.106856</td>\n",
       "      <td>0.498652</td>\n",
       "      <td>0.394492</td>\n",
       "      <td>L</td>\n",
       "    </tr>\n",
       "    <tr>\n",
       "      <th>1</th>\n",
       "      <td>985</td>\n",
       "      <td>980</td>\n",
       "      <td>1000.0</td>\n",
       "      <td>1000.0</td>\n",
       "      <td>skaven</td>\n",
       "      <td>woodElf</td>\n",
       "      <td>L</td>\n",
       "      <td>W</td>\n",
       "      <td>0.105396</td>\n",
       "      <td>0.401499</td>\n",
       "      <td>0.493105</td>\n",
       "      <td>W</td>\n",
       "    </tr>\n",
       "    <tr>\n",
       "      <th>2</th>\n",
       "      <td>1060</td>\n",
       "      <td>880</td>\n",
       "      <td>1588.0</td>\n",
       "      <td>1632.0</td>\n",
       "      <td>shamblingUndead</td>\n",
       "      <td>orc</td>\n",
       "      <td>W</td>\n",
       "      <td>W</td>\n",
       "      <td>0.219699</td>\n",
       "      <td>0.321405</td>\n",
       "      <td>0.458896</td>\n",
       "      <td>W</td>\n",
       "    </tr>\n",
       "    <tr>\n",
       "      <th>3</th>\n",
       "      <td>880</td>\n",
       "      <td>1060</td>\n",
       "      <td>1632.0</td>\n",
       "      <td>1588.0</td>\n",
       "      <td>orc</td>\n",
       "      <td>shamblingUndead</td>\n",
       "      <td>L</td>\n",
       "      <td>L</td>\n",
       "      <td>0.220646</td>\n",
       "      <td>0.441322</td>\n",
       "      <td>0.338032</td>\n",
       "      <td>L</td>\n",
       "    </tr>\n",
       "    <tr>\n",
       "      <th>4</th>\n",
       "      <td>980</td>\n",
       "      <td>1000</td>\n",
       "      <td>1000.0</td>\n",
       "      <td>1000.0</td>\n",
       "      <td>oldWorldAlliance</td>\n",
       "      <td>orc</td>\n",
       "      <td>L</td>\n",
       "      <td>L</td>\n",
       "      <td>0.119826</td>\n",
       "      <td>0.558089</td>\n",
       "      <td>0.322085</td>\n",
       "      <td>L</td>\n",
       "    </tr>\n",
       "    <tr>\n",
       "      <th>5</th>\n",
       "      <td>1000</td>\n",
       "      <td>980</td>\n",
       "      <td>1000.0</td>\n",
       "      <td>1000.0</td>\n",
       "      <td>orc</td>\n",
       "      <td>oldWorldAlliance</td>\n",
       "      <td>W</td>\n",
       "      <td>W</td>\n",
       "      <td>0.118942</td>\n",
       "      <td>0.336287</td>\n",
       "      <td>0.544771</td>\n",
       "      <td>W</td>\n",
       "    </tr>\n",
       "  </tbody>\n",
       "</table>\n",
       "</div>"
      ],
      "text/plain": [
       "   value  opp_value  rating  opp_rating              race          opp_race  \\\n",
       "0    980        985  1000.0      1000.0           woodElf            skaven   \n",
       "1    985        980  1000.0      1000.0            skaven           woodElf   \n",
       "2   1060        880  1588.0      1632.0   shamblingUndead               orc   \n",
       "3    880       1060  1632.0      1588.0               orc   shamblingUndead   \n",
       "4    980       1000  1000.0      1000.0  oldWorldAlliance               orc   \n",
       "5   1000        980  1000.0      1000.0               orc  oldWorldAlliance   \n",
       "\n",
       "  result random_result  probability_D  probability_L  probability_W prediction  \n",
       "0      W             L       0.106856       0.498652       0.394492          L  \n",
       "1      L             W       0.105396       0.401499       0.493105          W  \n",
       "2      W             W       0.219699       0.321405       0.458896          W  \n",
       "3      L             L       0.220646       0.441322       0.338032          L  \n",
       "4      L             L       0.119826       0.558089       0.322085          L  \n",
       "5      W             W       0.118942       0.336287       0.544771          W  "
      ]
     },
     "execution_count": 55,
     "metadata": {},
     "output_type": "execute_result"
    }
   ],
   "source": [
    "test_df_1_1.head(6)"
   ]
  },
  {
   "cell_type": "code",
   "execution_count": 86,
   "id": "be657a2b-0cf5-46b9-bc18-7fb81eeb08dd",
   "metadata": {},
   "outputs": [
    {
     "name": "stdout",
     "output_type": "stream",
     "text": [
      "Accuracy на тестовых данных: 48.8%\n"
     ]
    }
   ],
   "source": [
    "test_accuracy_1_1 = (test_df_1_1['result'] == test_df_1_1['prediction']).mean()\n",
    "\n",
    "print(f'Test data accuracy: {test_accuracy_1_1:.1%}')"
   ]
  },
  {
   "cell_type": "markdown",
   "id": "74e93c04-ba36-4763-94ff-e275704f6fbd",
   "metadata": {},
   "source": [
    "## Model 1.2 - model with balanced class weights\n",
    "Let's try to take class weights into account."
   ]
  },
  {
   "cell_type": "code",
   "execution_count": 60,
   "id": "068ab857-47b3-4f22-9fc9-c9198cdbd19c",
   "metadata": {},
   "outputs": [],
   "source": [
    "CAT_FEATURES = [\n",
    "    'race',\n",
    "    'opp_race'\n",
    "]\n",
    "\n",
    "FEATURES = [\n",
    "    'value',\n",
    "    'opp_value',\n",
    "    'rating',\n",
    "    'opp_rating'\n",
    "] + CAT_FEATURES\n",
    "\n",
    "TARGET = 'result'"
   ]
  },
  {
   "cell_type": "code",
   "execution_count": 12,
   "id": "785c792d-6b73-4ad4-9c76-4979b1e0522b",
   "metadata": {},
   "outputs": [],
   "source": [
    "random_state = 1\n",
    "X_train_1_2, X_val_1_2, y_train_1_2, y_val_1_2 = train_test_split(df[FEATURES], df[TARGET], test_size=0.2, random_state=random_state)\n",
    "\n",
    "class_weights = compute_class_weight(class_weight='balanced', classes=np.unique(y_train_1_2), y=y_train_1_2)\n",
    "class_weights_dict = dict(zip(np.unique(y_train_1_2), class_weights))\n",
    "\n",
    "train_pool_1_2 = Pool(X_train_1_2, y_train_1_2, cat_features=CAT_FEATURES, weight=[class_weights_dict[label] for label in y_train_1_2])\n",
    "eval_pool_1_2 = Pool(X_val_1_2, y_val_1_2, cat_features=CAT_FEATURES)"
   ]
  },
  {
   "cell_type": "code",
   "execution_count": 80,
   "id": "9e33725b-ba4d-4403-b555-eaa77c5793d2",
   "metadata": {},
   "outputs": [
    {
     "name": "stdout",
     "output_type": "stream",
     "text": [
      "0:\tlearn: 0.3934508\ttest: 0.3764927\tbest: 0.3764927 (0)\ttotal: 1.01s\tremaining: 1h 23m 57s\n",
      "100:\tlearn: 0.4196435\ttest: 0.4385691\tbest: 0.4385691 (100)\ttotal: 1m 32s\tremaining: 1h 14m 34s\n",
      "200:\tlearn: 0.4219275\ttest: 0.4402937\tbest: 0.4403577 (196)\ttotal: 3m 1s\tremaining: 1h 12m 21s\n",
      "300:\tlearn: 0.4232617\ttest: 0.4411197\tbest: 0.4413523 (273)\ttotal: 4m 31s\tremaining: 1h 10m 33s\n",
      "400:\tlearn: 0.4243983\ttest: 0.4415995\tbest: 0.4418177 (391)\ttotal: 5m 59s\tremaining: 1h 8m 40s\n",
      "500:\tlearn: 0.4253369\ttest: 0.4421899\tbest: 0.4422597 (487)\ttotal: 7m 29s\tremaining: 1h 7m 12s\n",
      "600:\tlearn: 0.4260648\ttest: 0.4427047\tbest: 0.4427541 (588)\ttotal: 8m 59s\tremaining: 1h 5m 46s\n",
      "700:\tlearn: 0.4270297\ttest: 0.4430391\tbest: 0.4430507 (699)\ttotal: 10m 28s\tremaining: 1h 4m 14s\n",
      "800:\tlearn: 0.4278834\ttest: 0.4431467\tbest: 0.4431467 (800)\ttotal: 11m 58s\tremaining: 1h 2m 45s\n",
      "900:\tlearn: 0.4286826\ttest: 0.4434463\tbest: 0.4435684 (894)\ttotal: 13m 28s\tremaining: 1h 1m 16s\n",
      "1000:\tlearn: 0.4294166\ttest: 0.4435219\tbest: 0.4435684 (894)\ttotal: 14m 56s\tremaining: 59m 40s\n",
      "1100:\tlearn: 0.4301439\ttest: 0.4436731\tbest: 0.4436731 (1100)\ttotal: 16m 27s\tremaining: 58m 16s\n",
      "1200:\tlearn: 0.4307915\ttest: 0.4435161\tbest: 0.4437022 (1102)\ttotal: 17m 56s\tremaining: 56m 46s\n",
      "1300:\tlearn: 0.4315926\ttest: 0.4435277\tbest: 0.4437022 (1102)\ttotal: 19m 26s\tremaining: 55m 15s\n",
      "1400:\tlearn: 0.4322940\ttest: 0.4433881\tbest: 0.4437022 (1102)\ttotal: 20m 56s\tremaining: 53m 46s\n",
      "1500:\tlearn: 0.4330094\ttest: 0.4432776\tbest: 0.4437022 (1102)\ttotal: 22m 25s\tremaining: 52m 17s\n",
      "1600:\tlearn: 0.4335718\ttest: 0.4431787\tbest: 0.4437022 (1102)\ttotal: 23m 58s\tremaining: 50m 53s\n",
      "Stopped by overfitting detector  (500 iterations wait)\n",
      "\n",
      "bestTest = 0.4437021957\n",
      "bestIteration = 1102\n",
      "\n",
      "Shrink model to first 1103 iterations.\n"
     ]
    },
    {
     "data": {
      "text/plain": [
       "<catboost.core.CatBoostClassifier at 0x1a6bc2d9c70>"
      ]
     },
     "execution_count": 80,
     "metadata": {},
     "output_type": "execute_result"
    }
   ],
   "source": [
    "model_1_2 = CatBoostClassifier(\n",
    "    iterations=5000,\n",
    "    learning_rate=0.1,\n",
    "    depth=6,\n",
    "    l2_leaf_reg=3,\n",
    "    bagging_temperature=1.0,\n",
    "    cat_features=CAT_FEATURES,\n",
    "    loss_function='MultiClass',\n",
    "    eval_metric='Accuracy',\n",
    "    random_seed=random_state,\n",
    "    verbose=100\n",
    ")\n",
    "model_1_2.fit(train_pool_1_2, eval_set=eval_pool_1_2, plot=False, verbose=100, use_best_model=True, early_stopping_rounds=500)"
   ]
  },
  {
   "cell_type": "code",
   "execution_count": 81,
   "id": "e484439f-5647-40b7-a088-22379d7f5cd0",
   "metadata": {},
   "outputs": [],
   "source": [
    "# Save model\n",
    "model_1_2.save_model('model_1_2.cbm')"
   ]
  },
  {
   "cell_type": "code",
   "execution_count": 82,
   "id": "af6831d2-f58b-421f-af7e-a0e47c362508",
   "metadata": {},
   "outputs": [],
   "source": [
    "# Load model\n",
    "# model_1_2 = CatBoostClassifier()\n",
    "# model_1_2.load_model('model_1_2.cbm')"
   ]
  },
  {
   "cell_type": "code",
   "execution_count": 83,
   "id": "d179006e-0c1d-4772-97ea-1f85763b84ae",
   "metadata": {},
   "outputs": [
    {
     "name": "stdout",
     "output_type": "stream",
     "text": [
      "Accuracy: 44.4%\n",
      "Classification Report:\n",
      "              precision    recall  f1-score   support\n",
      "\n",
      "           D       0.21      0.33      0.26     60035\n",
      "           L       0.53      0.47      0.50    141764\n",
      "           W       0.53      0.47      0.50    142051\n",
      "\n",
      "    accuracy                           0.44    343850\n",
      "   macro avg       0.42      0.42      0.42    343850\n",
      "weighted avg       0.47      0.44      0.45    343850\n",
      "\n"
     ]
    }
   ],
   "source": [
    "y_pred_1_2 = model_1_2.predict(X_val_1_2)\n",
    "accuracy_1_2 = accuracy_score(y_val_1_2, y_pred_1_2)\n",
    "print(f'Accuracy: {accuracy_1_2:.1%}')\n",
    "print(\"Classification Report:\")\n",
    "print(classification_report(y_val_1_2, y_pred_1_2))"
   ]
  },
  {
   "cell_type": "code",
   "execution_count": 84,
   "id": "ae239ad4-f666-4a6e-baf1-9133bfc73b22",
   "metadata": {},
   "outputs": [
    {
     "name": "stdout",
     "output_type": "stream",
     "text": [
      "\n",
      "процент побед: 36.9%\n",
      "процент ничьих : 26.8%\n",
      "процент поражений : 36.3%\n",
      "\n"
     ]
    },
    {
     "data": {
      "image/png": "[encoded data removed]",
      "text/plain": [
       "<Figure size 900x600 with 1 Axes>"
      ]
     },
     "metadata": {},
     "output_type": "display_data"
    }
   ],
   "source": [
    "# Predicted results distribution\n",
    "class_counts = pd.Series(y_pred_1_2.flatten()).value_counts(normalize=False)\n",
    "sum_counts = class_counts.sum()\n",
    "W_weight = class_counts.W / sum_counts\n",
    "D_weight = class_counts.D / sum_counts\n",
    "L_weight = class_counts.L / sum_counts\n",
    "print(f\"\"\"\n",
    "percent of wins: {W_weight:.1%}\n",
    "percent of draws: {D_weight:.1%}\n",
    "percent of losses: {L_weight:.1%}\n",
    "\"\"\")\n",
    "\n",
    "ax = sns.barplot(x=class_counts.index, y=class_counts.values)\n",
    "plt.title('Distribution of Predicted Results (model 1.2)\\n')\n",
    "plt.xlabel('Results')\n",
    "plt.ylabel('Share of Results')\n",
    "\n",
    "for p in ax.patches:\n",
    "    count = int(p.get_height())  \n",
    "    ax.annotate(f'{count}', \n",
    "                      (p.get_x() + p.get_width() / 2., p.get_height()), \n",
    "                      ha='center', va='bottom', \n",
    "                      fontsize=20, color='black', \n",
    "                      xytext=(0, 5),\n",
    "                      textcoords='offset points')\n",
    "    \n",
    "sns.despine()"
   ]
  },
  {
   "cell_type": "code",
   "execution_count": 85,
   "id": "eeda9b89-0429-415d-a673-79b412088f92",
   "metadata": {},
   "outputs": [
    {
     "name": "stdout",
     "output_type": "stream",
     "text": [
      "<class 'pandas.core.frame.DataFrame'>\n",
      "Index: 223428 entries, 0 to 272347\n",
      "Data columns (total 12 columns):\n",
      " #   Column         Non-Null Count   Dtype  \n",
      "---  ------         --------------   -----  \n",
      " 0   value          223428 non-null  int64  \n",
      " 1   opp_value      223428 non-null  int64  \n",
      " 2   rating         223428 non-null  float64\n",
      " 3   opp_rating     223428 non-null  float64\n",
      " 4   race           223428 non-null  object \n",
      " 5   opp_race       223428 non-null  object \n",
      " 6   result         223428 non-null  object \n",
      " 7   random_result  223428 non-null  object \n",
      " 8   probability_D  223428 non-null  float64\n",
      " 9   probability_L  223428 non-null  float64\n",
      " 10  probability_W  223428 non-null  float64\n",
      " 11  prediction     223428 non-null  object \n",
      "dtypes: float64(5), int64(2), object(5)\n",
      "memory usage: 30.2+ MB\n"
     ]
    }
   ],
   "source": [
    "test_df_1_2 = test_df[FEATURES + ['result', 'random_result']].copy()\n",
    "probabilities = model_1_2.predict_proba(test_df_1_2[FEATURES])\n",
    "for i, class_name in enumerate(model_1_2.classes_):\n",
    "    test_df_1_2[f'probability_{class_name}'] = probabilities[:, i]\n",
    "test_df_1_2['prediction'] = model_1_2.predict(test_df_1_2[FEATURES]).flatten()\n",
    "test_df_1_2.info()"
   ]
  },
  {
   "cell_type": "code",
   "execution_count": 87,
   "id": "61793e87-9bed-457e-bd38-9ece921c8f11",
   "metadata": {},
   "outputs": [
    {
     "name": "stdout",
     "output_type": "stream",
     "text": [
      "Accuracy на тестовых данных: 42.1%\n"
     ]
    }
   ],
   "source": [
    "test_accuracy_1_2 = (test_df_1_2['result'] == test_df_1_2['prediction']).mean()\n",
    "\n",
    "print(f'Test data accuracy: {test_accuracy_1_2:.1%}')"
   ]
  },
  {
   "cell_type": "markdown",
   "id": "a6897643-e91e-4e87-b13d-4e761e7b7561",
   "metadata": {},
   "source": [
    "Recall is better, but accuracy is worse. Draw percent is too high. Not good: accuracy is the main metric."
   ]
  },
  {
   "cell_type": "markdown",
   "id": "ad9a6e24-c973-4c59-851f-b44845d52623",
   "metadata": {},
   "source": [
    "## Model 1.3 - model with custom class weights\n",
    "Let's try to find better class weights."
   ]
  },
  {
   "cell_type": "code",
   "execution_count": 13,
   "id": "bfdcca3f-eb57-49c0-a9e0-90e347d4cbd1",
   "metadata": {},
   "outputs": [
    {
     "data": {
      "text/plain": [
       "{'D': 1.9074932390264199, 'L': 0.8078923811067801, 'W': 0.8077785060363236}"
      ]
     },
     "execution_count": 13,
     "metadata": {},
     "output_type": "execute_result"
    }
   ],
   "source": [
    "# Previuos model class weights\n",
    "class_weights_dict"
   ]
  },
  {
   "cell_type": "code",
   "execution_count": 14,
   "id": "592f28ac-7207-4bd8-8b35-a37d025d6b80",
   "metadata": {},
   "outputs": [],
   "source": [
    "CAT_FEATURES = [\n",
    "    'race',\n",
    "    'opp_race'\n",
    "]\n",
    "\n",
    "FEATURES = [\n",
    "    'value',\n",
    "    'opp_value',\n",
    "    'rating',\n",
    "    'opp_rating'\n",
    "] + CAT_FEATURES\n",
    "\n",
    "TARGET = 'result'"
   ]
  },
  {
   "cell_type": "code",
   "execution_count": 15,
   "id": "353a5e93-9f5f-47a3-96cc-e302b7637468",
   "metadata": {},
   "outputs": [],
   "source": [
    "random_state = 1\n",
    "X_train_1_3, X_val_1_3, y_train_1_3, y_val_1_3 = train_test_split(df[FEATURES], df[TARGET], test_size=0.2, random_state=random_state)\n",
    "\n",
    "draw_weight = 1.5\n",
    "class_weights = compute_class_weight(class_weight={'D': draw_weight, 'W': 1, 'L': 1} , classes=np.unique(y_train_1_3), y=y_train_1_3)\n",
    "class_weights_dict = dict(zip(np.unique(y_train_1_3), class_weights))\n",
    "\n",
    "train_pool_1_3 = Pool(X_train_1_3, y_train_1_3, cat_features=CAT_FEATURES, weight=[class_weights_dict[label] for label in y_train_1_3])\n",
    "eval_pool_1_3 = Pool(X_val_1_3, y_val_1_3, cat_features=CAT_FEATURES)"
   ]
  },
  {
   "cell_type": "code",
   "execution_count": 16,
   "id": "4fbc3f76-d5ac-4e44-964f-dd4c1b843ada",
   "metadata": {},
   "outputs": [
    {
     "name": "stdout",
     "output_type": "stream",
     "text": [
      "0:\tlearn: 0.4288457\ttest: 0.4655431\tbest: 0.4655431 (0)\ttotal: 1.18s\tremaining: 1h 37m 56s\n",
      "100:\tlearn: 0.4615348\ttest: 0.5017246\tbest: 0.5017246 (100)\ttotal: 1m 38s\tremaining: 1h 19m 46s\n",
      "200:\tlearn: 0.4628825\ttest: 0.5032514\tbest: 0.5032514 (200)\ttotal: 3m 16s\tremaining: 1h 18m 9s\n",
      "300:\tlearn: 0.4636671\ttest: 0.5037516\tbest: 0.5038069 (296)\ttotal: 4m 52s\tremaining: 1h 16m 7s\n",
      "400:\tlearn: 0.4642492\ttest: 0.5041123\tbest: 0.5041152 (399)\ttotal: 6m 25s\tremaining: 1h 13m 46s\n",
      "500:\tlearn: 0.4646323\ttest: 0.5042431\tbest: 0.5042868 (491)\ttotal: 7m 56s\tremaining: 1h 11m 21s\n",
      "600:\tlearn: 0.4652307\ttest: 0.5044060\tbest: 0.5044554 (598)\ttotal: 9m 31s\tremaining: 1h 9m 44s\n",
      "700:\tlearn: 0.4657312\ttest: 0.5043042\tbest: 0.5044554 (598)\ttotal: 11m 7s\tremaining: 1h 8m 16s\n",
      "800:\tlearn: 0.4661992\ttest: 0.5043740\tbest: 0.5044554 (598)\ttotal: 12m 41s\tremaining: 1h 6m 29s\n",
      "900:\tlearn: 0.4664837\ttest: 0.5044700\tbest: 0.5044961 (898)\ttotal: 14m 15s\tremaining: 1h 4m 52s\n",
      "1000:\tlearn: 0.4668177\ttest: 0.5044991\tbest: 0.5045136 (902)\ttotal: 15m 52s\tremaining: 1h 3m 26s\n",
      "1100:\tlearn: 0.4671183\ttest: 0.5045747\tbest: 0.5046474 (1084)\ttotal: 17m 27s\tremaining: 1h 1m 47s\n",
      "1200:\tlearn: 0.4673500\ttest: 0.5045747\tbest: 0.5047026 (1135)\ttotal: 19m 4s\tremaining: 1h 18s\n",
      "1300:\tlearn: 0.4677054\ttest: 0.5046299\tbest: 0.5047026 (1135)\ttotal: 20m 39s\tremaining: 58m 45s\n",
      "1400:\tlearn: 0.4680791\ttest: 0.5044031\tbest: 0.5047026 (1135)\ttotal: 22m 10s\tremaining: 56m 58s\n",
      "1500:\tlearn: 0.4683148\ttest: 0.5044612\tbest: 0.5047026 (1135)\ttotal: 23m 41s\tremaining: 55m 12s\n",
      "1600:\tlearn: 0.4686374\ttest: 0.5043798\tbest: 0.5047026 (1135)\ttotal: 25m 11s\tremaining: 53m 29s\n",
      "Stopped by overfitting detector  (500 iterations wait)\n",
      "\n",
      "bestTest = 0.504702632\n",
      "bestIteration = 1135\n",
      "\n",
      "Shrink model to first 1136 iterations.\n"
     ]
    },
    {
     "data": {
      "text/plain": [
       "<catboost.core.CatBoostClassifier at 0x1997b2a6db0>"
      ]
     },
     "execution_count": 16,
     "metadata": {},
     "output_type": "execute_result"
    }
   ],
   "source": [
    "model_1_3 = CatBoostClassifier(\n",
    "    iterations=5000,\n",
    "    learning_rate=0.1,\n",
    "    depth=6,\n",
    "    l2_leaf_reg=3,\n",
    "    bagging_temperature=1.0,\n",
    "    cat_features=CAT_FEATURES,\n",
    "    loss_function='MultiClass',\n",
    "    eval_metric='Accuracy',\n",
    "    random_seed=random_state,\n",
    "    verbose=100\n",
    ")\n",
    "model_1_3.fit(train_pool_1_3, eval_set=eval_pool_1_3, plot=False, verbose=100, use_best_model=True, early_stopping_rounds=500)"
   ]
  },
  {
   "cell_type": "code",
   "execution_count": 17,
   "id": "3fba7386-014f-4a0d-88a5-8deaa3009d3f",
   "metadata": {},
   "outputs": [],
   "source": [
    "# Save model\n",
    "model_1_3.save_model('model_1_3.cbm')"
   ]
  },
  {
   "cell_type": "code",
   "execution_count": 95,
   "id": "15fdc6f2-1446-4c0d-a867-1af8c6be2054",
   "metadata": {},
   "outputs": [],
   "source": [
    "# Load model\n",
    "# model_1_3 = CatBoostClassifier()\n",
    "# model_1_3.load_model('model_1_3.cbm')"
   ]
  },
  {
   "cell_type": "code",
   "execution_count": 18,
   "id": "6c6f3b34-7971-43f8-84e2-69e7865ab891",
   "metadata": {},
   "outputs": [
    {
     "name": "stdout",
     "output_type": "stream",
     "text": [
      "Accuracy: 50.5%\n",
      "Classification Report:\n",
      "              precision    recall  f1-score   support\n",
      "\n",
      "           D       0.28      0.00      0.01     60130\n",
      "           L       0.50      0.61      0.55    141900\n",
      "           W       0.51      0.61      0.55    141820\n",
      "\n",
      "    accuracy                           0.50    343850\n",
      "   macro avg       0.43      0.41      0.37    343850\n",
      "weighted avg       0.47      0.50      0.46    343850\n",
      "\n"
     ]
    }
   ],
   "source": [
    "y_pred_1_3 = model_1_3.predict(X_val_1_3)\n",
    "accuracy_1_3 = accuracy_score(y_val_1_3, y_pred_1_3)\n",
    "print(f'Accuracy: {accuracy_1_3:.1%}')\n",
    "print(\"Classification Report:\")\n",
    "print(classification_report(y_val_1_3, y_pred_1_3))"
   ]
  },
  {
   "cell_type": "code",
   "execution_count": 19,
   "id": "42b172cf-aedd-415b-a7fa-8b5f29e2cf1b",
   "metadata": {},
   "outputs": [
    {
     "name": "stdout",
     "output_type": "stream",
     "text": [
      "\n",
      "процент побед: 49.6%\n",
      "процент ничьих : 0.2%\n",
      "процент поражений : 50.2%\n",
      "\n"
     ]
    },
    {
     "data": {
      "image/png": "[encoded data removed]",
      "text/plain": [
       "<Figure size 900x600 with 1 Axes>"
      ]
     },
     "metadata": {},
     "output_type": "display_data"
    }
   ],
   "source": [
    "# Predicted results distribution\n",
    "class_counts = pd.Series(y_pred_1_3.flatten()).value_counts(normalize=False)\n",
    "sum_counts = class_counts.sum()\n",
    "W_weight = class_counts.W / sum_counts\n",
    "D_weight = class_counts.D / sum_counts\n",
    "L_weight = class_counts.L / sum_counts\n",
    "print(f\"\"\"\n",
    "percent of wins: {W_weight:.1%}\n",
    "percent of draws: {D_weight:.1%}\n",
    "percent of losses: {L_weight:.1%}\n",
    "\"\"\")\n",
    "\n",
    "ax = sns.barplot(x=class_counts.index, y=class_counts.values)\n",
    "plt.title('Distribution of Predicted Results (model 1.3)\\n')\n",
    "plt.xlabel('Results')\n",
    "plt.ylabel('Share of Results')\n",
    "\n",
    "for p in ax.patches:\n",
    "    count = int(p.get_height())  \n",
    "    ax.annotate(f'{count}', \n",
    "                      (p.get_x() + p.get_width() / 2., p.get_height()), \n",
    "                      ha='center', va='bottom', \n",
    "                      fontsize=20, color='black', \n",
    "                      xytext=(0, 5),\n",
    "                      textcoords='offset points')\n",
    "    \n",
    "sns.despine()"
   ]
  },
  {
   "cell_type": "code",
   "execution_count": 20,
   "id": "6446b2bc-a98d-4549-be06-69e8d0e86b79",
   "metadata": {},
   "outputs": [
    {
     "name": "stdout",
     "output_type": "stream",
     "text": [
      "Accuracy на тестовых данных: 48.8%\n"
     ]
    }
   ],
   "source": [
    "test_df_1_3 = test_df[FEATURES + ['result', 'random_result']].copy()\n",
    "probabilities = model_1_3.predict_proba(test_df_1_3[FEATURES])\n",
    "for i, class_name in enumerate(model_1_3.classes_):\n",
    "    test_df_1_3[f'probability_{class_name}'] = probabilities[:, i]\n",
    "test_df_1_3['prediction'] = model_1_3.predict(test_df_1_3[FEATURES]).flatten()\n",
    "test_accuracy_1_3 = (test_df_1_3['result'] == test_df_1_3['prediction']).mean()\n",
    "\n",
    "print(f'Test data accuracy: {test_accuracy_1_3:.1%}')"
   ]
  },
  {
   "cell_type": "markdown",
   "id": "234c0ac9-6644-4134-8647-b8819bb7d10b",
   "metadata": {},
   "source": [
    "Recall almost 0 again, but accuracy also raised. Let's try adjust draw_weight later."
   ]
  },
  {
   "cell_type": "markdown",
   "id": "9c71ff66-1b14-45c6-bb00-826b150cb85b",
   "metadata": {},
   "source": [
    "## Model 1.4 - model with class weights and added predictors\n",
    "Let's try to add 2 more predictors: value_diff (TV difference) and rating_diff (SR difference). On the one hand, they clearly follow from the existing predictors and are redundant, on the other hand, their explicit specification can simplify the task of the model."
   ]
  },
  {
   "cell_type": "code",
   "execution_count": 99,
   "id": "e71d711f-dcac-4d7d-a2c0-c9e3a405c281",
   "metadata": {},
   "outputs": [],
   "source": [
    "df_1_4 = df.copy()\n",
    "df_1_4['value_diff'] = df_1_4['value'] - df_1_4['opp_value']\n",
    "df_1_4['rating_diff'] = df_1_4['rating'] - df_1_4['opp_rating']\n",
    "\n",
    "CAT_FEATURES = [\n",
    "    'race',\n",
    "    'opp_race'\n",
    "]\n",
    "\n",
    "FEATURES = [\n",
    "    'value',\n",
    "    'opp_value',\n",
    "    'value_diff',\n",
    "    'rating',\n",
    "    'opp_rating',\n",
    "    'rating_diff'\n",
    "] + CAT_FEATURES\n",
    "\n",
    "TARGET = 'result'"
   ]
  },
  {
   "cell_type": "code",
   "execution_count": 101,
   "id": "88623035-022f-4f04-bb91-3071772e29b9",
   "metadata": {},
   "outputs": [],
   "source": [
    "random_state = 1\n",
    "X_train_1_4, X_val_1_4, y_train_1_4, y_val_1_4 = train_test_split(df_1_4[FEATURES], df_1_4[TARGET], test_size=0.2, random_state=random_state)\n",
    "\n",
    "draw_weight = 1.5\n",
    "class_weights = compute_class_weight(class_weight={'D': draw_weight, 'W': 1, 'L': 1} , classes=np.unique(y_train_1_4), y=y_train_1_4)\n",
    "class_weights_dict = dict(zip(np.unique(y_train_1_4), class_weights))\n",
    "\n",
    "train_pool_1_4 = Pool(X_train_1_4, y_train_1_4, cat_features=CAT_FEATURES, weight=[class_weights_dict[label] for label in y_train_1_4])\n",
    "eval_pool_1_4 = Pool(X_val_1_4, y_val_1_4, cat_features=CAT_FEATURES)"
   ]
  },
  {
   "cell_type": "code",
   "execution_count": 102,
   "id": "25096ded-5963-4987-9970-7729c2590b51",
   "metadata": {},
   "outputs": [
    {
     "name": "stdout",
     "output_type": "stream",
     "text": [
      "0:\tlearn: 0.4501162\ttest: 0.4894867\tbest: 0.4894867 (0)\ttotal: 1.01s\tremaining: 1h 24m 14s\n",
      "100:\tlearn: 0.4618260\ttest: 0.5014425\tbest: 0.5014425 (99)\ttotal: 1m 33s\tremaining: 1h 15m 27s\n",
      "200:\tlearn: 0.4632138\ttest: 0.5027047\tbest: 0.5027076 (193)\ttotal: 3m 12s\tremaining: 1h 16m 27s\n",
      "300:\tlearn: 0.4639375\ttest: 0.5030595\tbest: 0.5030711 (292)\ttotal: 4m 53s\tremaining: 1h 16m 26s\n",
      "400:\tlearn: 0.4645360\ttest: 0.5032485\tbest: 0.5032747 (389)\ttotal: 6m 32s\tremaining: 1h 14m 59s\n",
      "500:\tlearn: 0.4649174\ttest: 0.5033067\tbest: 0.5034463 (445)\ttotal: 8m 4s\tremaining: 1h 12m 26s\n",
      "600:\tlearn: 0.4654373\ttest: 0.5034114\tbest: 0.5034550 (597)\ttotal: 9m 34s\tremaining: 1h 10m 8s\n",
      "700:\tlearn: 0.4657739\ttest: 0.5033125\tbest: 0.5034608 (646)\ttotal: 11m 6s\tremaining: 1h 8m 10s\n",
      "800:\tlearn: 0.4662607\ttest: 0.5033968\tbest: 0.5035044 (780)\ttotal: 12m 39s\tremaining: 1h 6m 19s\n",
      "900:\tlearn: 0.4666144\ttest: 0.5035422\tbest: 0.5036208 (893)\ttotal: 14m 11s\tremaining: 1h 4m 34s\n",
      "1000:\tlearn: 0.4670928\ttest: 0.5037633\tbest: 0.5037778 (997)\ttotal: 15m 45s\tremaining: 1h 2m 58s\n",
      "1100:\tlearn: 0.4673579\ttest: 0.5037255\tbest: 0.5038185 (1082)\ttotal: 17m 18s\tremaining: 1h 1m 18s\n",
      "1200:\tlearn: 0.4676514\ttest: 0.5037371\tbest: 0.5038185 (1082)\ttotal: 18m 52s\tremaining: 59m 41s\n",
      "1300:\tlearn: 0.4679800\ttest: 0.5037313\tbest: 0.5038185 (1082)\ttotal: 20m 25s\tremaining: 58m 3s\n",
      "1400:\tlearn: 0.4683120\ttest: 0.5037487\tbest: 0.5038185 (1082)\ttotal: 21m 58s\tremaining: 56m 26s\n",
      "1500:\tlearn: 0.4686774\ttest: 0.5036004\tbest: 0.5038185 (1082)\ttotal: 23m 35s\tremaining: 54m 58s\n",
      "Stopped by overfitting detector  (500 iterations wait)\n",
      "\n",
      "bestTest = 0.5038185255\n",
      "bestIteration = 1082\n",
      "\n",
      "Shrink model to first 1083 iterations.\n"
     ]
    },
    {
     "data": {
      "text/plain": [
       "<catboost.core.CatBoostClassifier at 0x1a6bc466300>"
      ]
     },
     "execution_count": 102,
     "metadata": {},
     "output_type": "execute_result"
    }
   ],
   "source": [
    "model_1_4 = CatBoostClassifier(\n",
    "    iterations=5000,\n",
    "    learning_rate=0.1,\n",
    "    depth=6,\n",
    "    l2_leaf_reg=3,\n",
    "    bagging_temperature=1.0,\n",
    "    cat_features=CAT_FEATURES,\n",
    "    loss_function='MultiClass',\n",
    "    eval_metric='Accuracy',\n",
    "    random_seed=random_state,\n",
    "    verbose=100\n",
    ")\n",
    "model_1_4.fit(train_pool_1_4, eval_set=eval_pool_1_4, plot=False, verbose=100, use_best_model=True, early_stopping_rounds=500)"
   ]
  },
  {
   "cell_type": "code",
   "execution_count": 103,
   "id": "c4897d43-8c91-400d-962d-8f8bbd449b66",
   "metadata": {},
   "outputs": [],
   "source": [
    "# Save model\n",
    "model_1_4.save_model('model_1_4.cbm')"
   ]
  },
  {
   "cell_type": "code",
   "execution_count": 25,
   "id": "5fec8229-63f3-4ef8-b92f-134035c99fe1",
   "metadata": {},
   "outputs": [],
   "source": [
    "# Load model\n",
    "# model_1_4 = CatBoostClassifier()\n",
    "# model_1_4.load_model('model_1_4.cbm')"
   ]
  },
  {
   "cell_type": "code",
   "execution_count": 105,
   "id": "ab7becde-b00d-4285-886e-a6ef6d7995b5",
   "metadata": {},
   "outputs": [
    {
     "name": "stdout",
     "output_type": "stream",
     "text": [
      "Accuracy: 50.4%\n",
      "Classification Report:\n",
      "              precision    recall  f1-score   support\n",
      "\n",
      "           D       0.27      0.00      0.01     60035\n",
      "           L       0.50      0.61      0.55    141764\n",
      "           W       0.50      0.61      0.55    142051\n",
      "\n",
      "    accuracy                           0.50    343850\n",
      "   macro avg       0.43      0.41      0.37    343850\n",
      "weighted avg       0.46      0.50      0.46    343850\n",
      "\n"
     ]
    }
   ],
   "source": [
    "y_pred_1_4 = model_1_4.predict(X_val_1_4)\n",
    "accuracy_1_4 = accuracy_score(y_val_1_4, y_pred_1_4)\n",
    "print(f'Accuracy: {accuracy_1_4:.1%}')\n",
    "print(\"Classification Report:\")\n",
    "print(classification_report(y_val_1_4, y_pred_1_4))"
   ]
  },
  {
   "cell_type": "code",
   "execution_count": 106,
   "id": "b6448d85-15a2-451a-a6d1-508b18a98565",
   "metadata": {},
   "outputs": [
    {
     "name": "stdout",
     "output_type": "stream",
     "text": [
      "\n",
      "процент побед: 50.1%\n",
      "процент ничьих : 0.3%\n",
      "процент поражений : 49.6%\n",
      "\n"
     ]
    },
    {
     "data": {
      "image/png": "[encoded data removed]",
      "text/plain": [
       "<Figure size 900x600 with 1 Axes>"
      ]
     },
     "metadata": {},
     "output_type": "display_data"
    }
   ],
   "source": [
    "# Predicted results distribution\n",
    "class_counts = pd.Series(y_pred_1_4.flatten()).value_counts(normalize=False)\n",
    "sum_counts = class_counts.sum()\n",
    "W_weight = class_counts.W / sum_counts\n",
    "D_weight = class_counts.D / sum_counts\n",
    "L_weight = class_counts.L / sum_counts\n",
    "print(f\"\"\"\n",
    "percent of wins: {W_weight:.1%}\n",
    "percent of draws: {D_weight:.1%}\n",
    "percent of losses: {L_weight:.1%}\n",
    "\"\"\")\n",
    "\n",
    "ax = sns.barplot(x=class_counts.index, y=class_counts.values)\n",
    "plt.title('Distribution of Predicted Results (model 1.4)\\n')\n",
    "plt.xlabel('Results')\n",
    "plt.ylabel('Share of Results')\n",
    "\n",
    "for p in ax.patches:\n",
    "    count = int(p.get_height())  \n",
    "    ax.annotate(f'{count}', \n",
    "                      (p.get_x() + p.get_width() / 2., p.get_height()), \n",
    "                      ha='center', va='bottom', \n",
    "                      fontsize=20, color='black', \n",
    "                      xytext=(0, 5),\n",
    "                      textcoords='offset points')\n",
    "    \n",
    "sns.despine()"
   ]
  },
  {
   "cell_type": "code",
   "execution_count": 109,
   "id": "a5893485-b353-400c-9913-93076bba5666",
   "metadata": {},
   "outputs": [
    {
     "name": "stdout",
     "output_type": "stream",
     "text": [
      "Accuracy на тестовых данных: 48.7%\n"
     ]
    }
   ],
   "source": [
    "test_df['value_diff'] = test_df['value'] - test_df['opp_value']\n",
    "test_df['rating_diff'] = test_df['rating'] - test_df['opp_rating']\n",
    "test_df_1_4 = test_df[FEATURES + ['result', 'random_result']].copy()\n",
    "probabilities = model_1_4.predict_proba(test_df_1_4[FEATURES])\n",
    "for i, class_name in enumerate(model_1_4.classes_):\n",
    "    test_df_1_4[f'probability_{class_name}'] = probabilities[:, i]\n",
    "test_df_1_4['prediction'] = model_1_4.predict(test_df_1_4[FEATURES]).flatten()\n",
    "test_accuracy_1_4 = (test_df_1_4['result'] == test_df_1_4['prediction']).mean()\n",
    "\n",
    "print(f'Test data accuracy: {test_accuracy_1_4:.1%}')"
   ]
  },
  {
   "cell_type": "markdown",
   "id": "871e16e7-e623-42a3-9d3e-fe975ee22328",
   "metadata": {},
   "source": [
    "Extra predictors seemingly don't give any improvements."
   ]
  },
  {
   "cell_type": "markdown",
   "id": "6269ee3c-2055-4ebd-acb5-025f3b660389",
   "metadata": {},
   "source": [
    "# Model 1.5 - model with filtered concedes \r",
    "Let's see, if predictions will be better without concedes"
   ]
  },
  {
   "cell_type": "code",
   "execution_count": 26,
   "id": "c6c86231-c2b5-48b9-af89-719b215b0f3a",
   "metadata": {},
   "outputs": [
    {
     "name": "stdout",
     "output_type": "stream",
     "text": [
      "<class 'pandas.core.frame.DataFrame'>\n",
      "Index: 1180514 entries, 0 to 1719245\n",
      "Data columns (total 7 columns):\n",
      " #   Column      Non-Null Count    Dtype  \n",
      "---  ------      --------------    -----  \n",
      " 0   race        1180514 non-null  object \n",
      " 1   opp_race    1180514 non-null  object \n",
      " 2   value       1180514 non-null  int64  \n",
      " 3   opp_value   1180514 non-null  int64  \n",
      " 4   rating      1180514 non-null  float64\n",
      " 5   opp_rating  1180514 non-null  float64\n",
      " 6   result      1180514 non-null  object \n",
      "dtypes: float64(2), int64(2), object(3)\n",
      "memory usage: 72.1+ MB\n"
     ]
    }
   ],
   "source": [
    "df_1_5 = df[df['if_concede'] == 0][['race', 'opp_race', 'value', 'opp_value', 'rating', 'opp_rating', 'result']]\n",
    "df_1_5.info()"
   ]
  },
  {
   "cell_type": "code",
   "execution_count": 20,
   "id": "7e96c6d3-fd99-4168-bd54-4d6f4c452bc2",
   "metadata": {},
   "outputs": [
    {
     "name": "stdout",
     "output_type": "stream",
     "text": [
      "<class 'pandas.core.frame.DataFrame'>\n",
      "Index: 165602 entries, 8 to 272347\n",
      "Data columns (total 11 columns):\n",
      " #   Column         Non-Null Count   Dtype  \n",
      "---  ------         --------------   -----  \n",
      " 0   id             165602 non-null  object \n",
      " 1   race           165602 non-null  object \n",
      " 2   opp_race       165602 non-null  object \n",
      " 3   value          165602 non-null  int64  \n",
      " 4   opp_value      165602 non-null  int64  \n",
      " 5   rating         165602 non-null  float64\n",
      " 6   opp_rating     165602 non-null  float64\n",
      " 7   if_concede     165602 non-null  int64  \n",
      " 8   if_leaver      165602 non-null  int64  \n",
      " 9   result         165602 non-null  object \n",
      " 10  random_result  165602 non-null  object \n",
      "dtypes: float64(2), int64(4), object(5)\n",
      "memory usage: 15.2+ MB\n"
     ]
    }
   ],
   "source": [
    "test_df_1_5 = test_df[test_df['if_concede'] == 0]\n",
    "test_df_1_5.info()"
   ]
  },
  {
   "cell_type": "code",
   "execution_count": 21,
   "id": "ee81e92a-7d03-4886-9d2a-8763736b69da",
   "metadata": {},
   "outputs": [
    {
     "name": "stdout",
     "output_type": "stream",
     "text": [
      "\n",
      "процент побед: 37.3%\n",
      "процент ничьих : 25.5%\n",
      "процент поражений : 37.3%\n",
      "\n"
     ]
    },
    {
     "data": {
      "image/png": "[encoded data removed]",
      "text/plain": [
       "<Figure size 900x600 with 1 Axes>"
      ]
     },
     "metadata": {},
     "output_type": "display_data"
    }
   ],
   "source": [
    "# Results distribution\n",
    "test_class_counts = test_df_1_5['result'].value_counts(normalize=True)\n",
    "W_weight = test_class_counts.W\n",
    "D_weight = test_class_counts.D\n",
    "L_weight = test_class_counts.L\n",
    "print(f\"\"\"\n",
    "percent of wins: {W_weight:.1%}\n",
    "percent of draws: {D_weight:.1%}\n",
    "percent of losses: {L_weight:.1%}\n",
    "\"\"\")\n",
    "sns.barplot(x=test_class_counts.index, y=test_class_counts.values)\n",
    "plt.title('Distribution of Results')\n",
    "plt.xlabel('Results')\n",
    "plt.ylabel('Share of Results')\n",
    "sns.despine()"
   ]
  },
  {
   "cell_type": "code",
   "execution_count": 22,
   "id": "73e598b2-a562-4217-a0e8-d3c20dc37526",
   "metadata": {},
   "outputs": [
    {
     "data": {
      "text/html": [
       "<div>\n",
       "<style scoped>\n",
       "    .dataframe tbody tr th:only-of-type {\n",
       "        vertical-align: middle;\n",
       "    }\n",
       "\n",
       "    .dataframe tbody tr th {\n",
       "        vertical-align: top;\n",
       "    }\n",
       "\n",
       "    .dataframe thead th {\n",
       "        text-align: right;\n",
       "    }\n",
       "</style>\n",
       "<table border=\"1\" class=\"dataframe\">\n",
       "  <thead>\n",
       "    <tr style=\"text-align: right;\">\n",
       "      <th></th>\n",
       "      <th>id</th>\n",
       "      <th>race</th>\n",
       "      <th>opp_race</th>\n",
       "      <th>value</th>\n",
       "      <th>opp_value</th>\n",
       "      <th>rating</th>\n",
       "      <th>opp_rating</th>\n",
       "      <th>if_concede</th>\n",
       "      <th>if_leaver</th>\n",
       "      <th>result</th>\n",
       "      <th>random_result</th>\n",
       "    </tr>\n",
       "  </thead>\n",
       "  <tbody>\n",
       "    <tr>\n",
       "      <th>8</th>\n",
       "      <td>aded0656-a670-11ef-aaf1-bc24112ec32e</td>\n",
       "      <td>blackOrc</td>\n",
       "      <td>human</td>\n",
       "      <td>1080</td>\n",
       "      <td>1205</td>\n",
       "      <td>1677.0</td>\n",
       "      <td>1446.0</td>\n",
       "      <td>0</td>\n",
       "      <td>0</td>\n",
       "      <td>W</td>\n",
       "      <td>L</td>\n",
       "    </tr>\n",
       "    <tr>\n",
       "      <th>9</th>\n",
       "      <td>aded0656-a670-11ef-aaf1-bc24112ec32e</td>\n",
       "      <td>human</td>\n",
       "      <td>blackOrc</td>\n",
       "      <td>1205</td>\n",
       "      <td>1080</td>\n",
       "      <td>1446.0</td>\n",
       "      <td>1677.0</td>\n",
       "      <td>0</td>\n",
       "      <td>0</td>\n",
       "      <td>L</td>\n",
       "      <td>W</td>\n",
       "    </tr>\n",
       "    <tr>\n",
       "      <th>14</th>\n",
       "      <td>c72e7b5a-a66f-11ef-aaf1-bc24112ec32e</td>\n",
       "      <td>darkElf</td>\n",
       "      <td>darkElf</td>\n",
       "      <td>960</td>\n",
       "      <td>1000</td>\n",
       "      <td>1600.0</td>\n",
       "      <td>1600.0</td>\n",
       "      <td>0</td>\n",
       "      <td>0</td>\n",
       "      <td>L</td>\n",
       "      <td>W</td>\n",
       "    </tr>\n",
       "    <tr>\n",
       "      <th>15</th>\n",
       "      <td>c72e7b5a-a66f-11ef-aaf1-bc24112ec32e</td>\n",
       "      <td>darkElf</td>\n",
       "      <td>darkElf</td>\n",
       "      <td>1000</td>\n",
       "      <td>960</td>\n",
       "      <td>1600.0</td>\n",
       "      <td>1600.0</td>\n",
       "      <td>0</td>\n",
       "      <td>0</td>\n",
       "      <td>W</td>\n",
       "      <td>L</td>\n",
       "    </tr>\n",
       "    <tr>\n",
       "      <th>20</th>\n",
       "      <td>986fe362-a66e-11ef-aaf1-bc24112ec32e</td>\n",
       "      <td>chaosChosen</td>\n",
       "      <td>lizardman</td>\n",
       "      <td>1590</td>\n",
       "      <td>1305</td>\n",
       "      <td>1555.0</td>\n",
       "      <td>1848.0</td>\n",
       "      <td>0</td>\n",
       "      <td>0</td>\n",
       "      <td>L</td>\n",
       "      <td>W</td>\n",
       "    </tr>\n",
       "    <tr>\n",
       "      <th>21</th>\n",
       "      <td>986fe362-a66e-11ef-aaf1-bc24112ec32e</td>\n",
       "      <td>lizardman</td>\n",
       "      <td>chaosChosen</td>\n",
       "      <td>1305</td>\n",
       "      <td>1590</td>\n",
       "      <td>1848.0</td>\n",
       "      <td>1555.0</td>\n",
       "      <td>0</td>\n",
       "      <td>0</td>\n",
       "      <td>W</td>\n",
       "      <td>L</td>\n",
       "    </tr>\n",
       "  </tbody>\n",
       "</table>\n",
       "</div>"
      ],
      "text/plain": [
       "                                      id         race     opp_race  value  \\\n",
       "8   aded0656-a670-11ef-aaf1-bc24112ec32e     blackOrc        human   1080   \n",
       "9   aded0656-a670-11ef-aaf1-bc24112ec32e        human     blackOrc   1205   \n",
       "14  c72e7b5a-a66f-11ef-aaf1-bc24112ec32e      darkElf      darkElf    960   \n",
       "15  c72e7b5a-a66f-11ef-aaf1-bc24112ec32e      darkElf      darkElf   1000   \n",
       "20  986fe362-a66e-11ef-aaf1-bc24112ec32e  chaosChosen    lizardman   1590   \n",
       "21  986fe362-a66e-11ef-aaf1-bc24112ec32e    lizardman  chaosChosen   1305   \n",
       "\n",
       "    opp_value  rating  opp_rating  if_concede  if_leaver result random_result  \n",
       "8        1205  1677.0      1446.0           0          0      W             L  \n",
       "9        1080  1446.0      1677.0           0          0      L             W  \n",
       "14       1000  1600.0      1600.0           0          0      L             W  \n",
       "15        960  1600.0      1600.0           0          0      W             L  \n",
       "20       1305  1555.0      1848.0           0          0      L             W  \n",
       "21       1590  1848.0      1555.0           0          0      W             L  "
      ]
     },
     "execution_count": 22,
     "metadata": {},
     "output_type": "execute_result"
    }
   ],
   "source": [
    "for row in test_df_1_5.itertuples():\n",
    "    if row.Index % 2 == 0:\n",
    "        test_df_1_5.loc[row.Index, 'random_result'] = np.random.choice(\n",
    "            ['W', 'D', 'L'],\n",
    "            p=[W_weight, D_weight, L_weight])\n",
    "    else:\n",
    "        if test_df_1_5.loc[row.Index - 1, 'random_result'] == 'W':\n",
    "            test_df_1_5.loc[row.Index, 'random_result'] = 'L'\n",
    "        elif test_df_1_5.loc[row.Index - 1, 'random_result'] == 'L':\n",
    "            test_df_1_5.loc[row.Index, 'random_result'] = 'W'\n",
    "        else:\n",
    "            test_df_1_5.loc[row.Index, 'random_result'] = 'D'\n",
    "\n",
    "test_df_1_5.head(6)"
   ]
  },
  {
   "cell_type": "code",
   "execution_count": 23,
   "id": "4a24c6d8-cc86-42a2-b788-67112d9cfd72",
   "metadata": {},
   "outputs": [
    {
     "name": "stdout",
     "output_type": "stream",
     "text": [
      "Accuracy при случайном (с учётом доли ничьих) угадывании результата: 34.1%\n"
     ]
    }
   ],
   "source": [
    "random_accuracy = accuracy_score(test_df_1_5.result, test_df_1_5.random_result)\n",
    "print(f'Accuracy with random (with actual draw share) predicting results: {random_accuracy:.1%}')"
   ]
  },
  {
   "cell_type": "code",
   "execution_count": 24,
   "id": "77146cb5-3284-4f0f-8717-bac6ac02f557",
   "metadata": {},
   "outputs": [],
   "source": [
    "CAT_FEATURES = [\n",
    "    'race',\n",
    "    'opp_race'\n",
    "]\n",
    "\n",
    "FEATURES = [\n",
    "    'value',\n",
    "    'opp_value',\n",
    "    'rating',\n",
    "    'opp_rating'\n",
    "] + CAT_FEATURES\n",
    "\n",
    "TARGET = 'result'"
   ]
  },
  {
   "cell_type": "code",
   "execution_count": 39,
   "id": "01d1e53c-046b-4a89-b7ad-03909e3c065b",
   "metadata": {},
   "outputs": [],
   "source": [
    "random_state = 1\n",
    "X_train_1_5, X_val_1_5, y_train_1_5, y_val_1_5 = train_test_split(df_1_5[FEATURES], df_1_5[TARGET], test_size=0.2, random_state=random_state)\n",
    "\n",
    "# draw_weight = 1.5\n",
    "# class_weights = compute_class_weight(class_weight={'D': draw_weight, 'W': 1, 'L': 1}, classes=np.unique(y_train_1_5), y=y_train_1_5)\n",
    "# class_weights_dict = dict(zip(np.unique(y_train_1_5), class_weights))\n",
    "\n",
    "train_pool_1_5 = Pool(X_train_1_5, y_train_1_5, cat_features=CAT_FEATURES)\n",
    "eval_pool_1_5 = Pool(X_val_1_5, y_val_1_5, cat_features=CAT_FEATURES)"
   ]
  },
  {
   "cell_type": "code",
   "execution_count": 40,
   "id": "56a5d0e1-2d96-4248-81ba-bf64d4c9bb9b",
   "metadata": {},
   "outputs": [
    {
     "name": "stdout",
     "output_type": "stream",
     "text": [
      "0:\tlearn: 0.4183390\ttest: 0.4173433\tbest: 0.4173433 (0)\ttotal: 667ms\tremaining: 55m 33s\n",
      "100:\tlearn: 0.4586202\ttest: 0.4581433\tbest: 0.4582322 (97)\ttotal: 1m 2s\tremaining: 50m 36s\n",
      "200:\tlearn: 0.4602361\ttest: 0.4591217\tbest: 0.4593419 (194)\ttotal: 2m 3s\tremaining: 48m 58s\n",
      "300:\tlearn: 0.4613595\ttest: 0.4599222\tbest: 0.4599857 (278)\ttotal: 3m 2s\tremaining: 47m 22s\n",
      "400:\tlearn: 0.4623898\ttest: 0.4601763\tbest: 0.4603923 (393)\ttotal: 4m\tremaining: 45m 57s\n",
      "500:\tlearn: 0.4631691\ttest: 0.4604939\tbest: 0.4606168 (495)\ttotal: 4m 58s\tremaining: 44m 39s\n",
      "600:\tlearn: 0.4636096\ttest: 0.4608285\tbest: 0.4608455 (599)\ttotal: 5m 57s\tremaining: 43m 35s\n",
      "700:\tlearn: 0.4642439\ttest: 0.4608031\tbest: 0.4609429 (694)\ttotal: 7m\tremaining: 42m 57s\n",
      "800:\tlearn: 0.4646907\ttest: 0.4606761\tbest: 0.4609429 (694)\ttotal: 8m 3s\tremaining: 42m 12s\n",
      "900:\tlearn: 0.4652953\ttest: 0.4608158\tbest: 0.4609429 (694)\ttotal: 9m 6s\tremaining: 41m 24s\n",
      "1000:\tlearn: 0.4657856\ttest: 0.4607862\tbest: 0.4609429 (694)\ttotal: 10m 5s\tremaining: 40m 18s\n",
      "1100:\tlearn: 0.4662070\ttest: 0.4608794\tbest: 0.4609937 (1081)\ttotal: 11m 8s\tremaining: 39m 26s\n",
      "1200:\tlearn: 0.4668317\ttest: 0.4608963\tbest: 0.4610827 (1184)\ttotal: 12m 9s\tremaining: 38m 28s\n",
      "1300:\tlearn: 0.4671091\ttest: 0.4608539\tbest: 0.4610827 (1184)\ttotal: 13m 10s\tremaining: 37m 26s\n",
      "1400:\tlearn: 0.4674850\ttest: 0.4608243\tbest: 0.4610827 (1184)\ttotal: 14m 13s\tremaining: 36m 32s\n",
      "1500:\tlearn: 0.4678472\ttest: 0.4606125\tbest: 0.4610827 (1184)\ttotal: 15m 18s\tremaining: 35m 39s\n",
      "1600:\tlearn: 0.4681733\ttest: 0.4608243\tbest: 0.4610827 (1184)\ttotal: 16m 23s\tremaining: 34m 47s\n",
      "Stopped by overfitting detector  (500 iterations wait)\n",
      "\n",
      "bestTest = 0.4610826631\n",
      "bestIteration = 1184\n",
      "\n",
      "Shrink model to first 1185 iterations.\n"
     ]
    },
    {
     "data": {
      "text/plain": [
       "<catboost.core.CatBoostClassifier at 0x2c000189eb0>"
      ]
     },
     "execution_count": 40,
     "metadata": {},
     "output_type": "execute_result"
    }
   ],
   "source": [
    "model_1_5 = CatBoostClassifier(\n",
    "    iterations=5000,\n",
    "    learning_rate=0.1,\n",
    "    depth=6,\n",
    "    l2_leaf_reg=3,\n",
    "    bagging_temperature=1.0,\n",
    "    cat_features=CAT_FEATURES,\n",
    "    loss_function='MultiClass',\n",
    "    eval_metric='Accuracy',\n",
    "    random_seed=random_state,\n",
    "    verbose=100\n",
    ")\n",
    "model_1_5.fit(train_pool_1_5, eval_set=eval_pool_1_5, plot=False, verbose=100, use_best_model=True, early_stopping_rounds=500)"
   ]
  },
  {
   "cell_type": "code",
   "execution_count": 41,
   "id": "3be3e37f-afff-4608-90db-f26c3c356b75",
   "metadata": {},
   "outputs": [],
   "source": [
    "# Save model\n",
    "model_1_5.save_model('model_1_5.cbm')"
   ]
  },
  {
   "cell_type": "code",
   "execution_count": 42,
   "id": "72312aad-0ae2-4b17-95f0-97db76cb2840",
   "metadata": {},
   "outputs": [],
   "source": [
    "# Load model\n",
    "# model_1_5 = CatBoostClassifier()\n",
    "# model_1_5.load_model('model_1_5.cbm')"
   ]
  },
  {
   "cell_type": "code",
   "execution_count": 43,
   "id": "8a438548-ee29-4ebc-a2fb-26ddc1dea4a7",
   "metadata": {},
   "outputs": [
    {
     "name": "stdout",
     "output_type": "stream",
     "text": [
      "Accuracy: 46.1%\n",
      "Classification Report:\n",
      "              precision    recall  f1-score   support\n",
      "\n",
      "           D       0.40      0.00      0.00     60469\n",
      "           L       0.46      0.62      0.53     87785\n",
      "           W       0.46      0.62      0.53     87849\n",
      "\n",
      "    accuracy                           0.46    236103\n",
      "   macro avg       0.44      0.41      0.35    236103\n",
      "weighted avg       0.45      0.46      0.39    236103\n",
      "\n"
     ]
    }
   ],
   "source": [
    "y_pred_1_5 = model_1_5.predict(X_val_1_5)\n",
    "accuracy_1_5 = accuracy_score(y_val_1_5, y_pred_1_5)\n",
    "print(f'Accuracy: {accuracy_1_5:.1%}')\n",
    "print(\"Classification Report:\")\n",
    "print(classification_report(y_val_1_5, y_pred_1_5))"
   ]
  },
  {
   "cell_type": "code",
   "execution_count": 44,
   "id": "002c7150-ec62-4402-8a3f-4142d8b660b3",
   "metadata": {},
   "outputs": [
    {
     "name": "stdout",
     "output_type": "stream",
     "text": [
      "\n",
      "процент побед: 50.0%\n",
      "процент ничьих : 0.1%\n",
      "процент поражений : 49.9%\n",
      "\n"
     ]
    },
    {
     "data": {
      "image/png": "[encoded data removed]",
      "text/plain": [
       "<Figure size 900x600 with 1 Axes>"
      ]
     },
     "metadata": {},
     "output_type": "display_data"
    }
   ],
   "source": [
    "# Predicted results distribution\n",
    "class_counts = pd.Series(y_pred_1_5.flatten()).value_counts(normalize=False)\n",
    "sum_counts = class_counts.sum()\n",
    "W_weight = class_counts.W / sum_counts\n",
    "D_weight = class_counts.D / sum_counts\n",
    "L_weight = class_counts.L / sum_counts\n",
    "print(f\"\"\"\n",
    "percent of wins: {W_weight:.1%}\n",
    "percent of draws: {D_weight:.1%}\n",
    "percent of losses: {L_weight:.1%}\n",
    "\"\"\")\n",
    "\n",
    "ax = sns.barplot(x=class_counts.index, y=class_counts.values)\n",
    "plt.title('Distribution of Predicted Results (model 1.5)\\n')\n",
    "plt.xlabel('Results')\n",
    "plt.ylabel('Share of Results')\n",
    "\n",
    "for p in ax.patches:\n",
    "    count = int(p.get_height())  \n",
    "    ax.annotate(f'{count}', \n",
    "                      (p.get_x() + p.get_width() / 2., p.get_height()), \n",
    "                      ha='center', va='bottom', \n",
    "                      fontsize=20, color='black', \n",
    "                      xytext=(0, 5),\n",
    "                      textcoords='offset points')\n",
    "    \n",
    "sns.despine()"
   ]
  },
  {
   "cell_type": "code",
   "execution_count": 45,
   "id": "22fd70cf-8d4c-4bb9-9d82-829e702d0082",
   "metadata": {},
   "outputs": [
    {
     "name": "stdout",
     "output_type": "stream",
     "text": [
      "Accuracy на тестовых данных: 48.3%\n"
     ]
    }
   ],
   "source": [
    "test_df_1_5 = test_df[FEATURES + ['result', 'random_result']].copy()\n",
    "probabilities = model_1_5.predict_proba(test_df_1_5[FEATURES])\n",
    "for i, class_name in enumerate(model_1_5.classes_):\n",
    "    test_df_1_5[f'probability_{class_name}'] = probabilities[:, i]\n",
    "test_df_1_5['prediction'] = model_1_5.predict(test_df_1_5[FEATURES]).flatten()\n",
    "test_accuracy_1_5 = (test_df_1_5['result'] == test_df_1_5['prediction']).mean()\n",
    "\n",
    "print(f'Test data accuracy: {test_accuracy_1_5:.1%}')"
   ]
  },
  {
   "cell_type": "markdown",
   "id": "1d18ad24-121e-47fc-9867-86b63384097c",
   "metadata": {},
   "source": [
    "No improvements comparing with model 1.1."
   ]
  },
  {
   "cell_type": "markdown",
   "id": "b2a512b0-b29d-4da7-96ef-591bc5d9fcf7",
   "metadata": {},
   "source": [
    "# Model 1.6 - model with custom class weights and smaller training dataset\n",
    "Let's see, if we take only last season as training dataset"
   ]
  },
  {
   "cell_type": "code",
   "execution_count": 46,
   "id": "0dd9ef26-f336-46f5-86a7-ab9c22fc24a7",
   "metadata": {},
   "outputs": [
    {
     "name": "stdout",
     "output_type": "stream",
     "text": [
      "<class 'pandas.core.frame.DataFrame'>\n",
      "RangeIndex: 329224 entries, 0 to 329223\n",
      "Data columns (total 10 columns):\n",
      " #   Column      Non-Null Count   Dtype  \n",
      "---  ------      --------------   -----  \n",
      " 0   id          329224 non-null  object \n",
      " 1   race        329224 non-null  object \n",
      " 2   opp_race    329224 non-null  object \n",
      " 3   value       329224 non-null  int64  \n",
      " 4   opp_value   329224 non-null  int64  \n",
      " 5   rating      329224 non-null  float64\n",
      " 6   opp_rating  329224 non-null  float64\n",
      " 7   if_concede  329224 non-null  int64  \n",
      " 8   if_leaver   329224 non-null  int64  \n",
      " 9   result      329224 non-null  object \n",
      "dtypes: float64(2), int64(4), object(4)\n",
      "memory usage: 25.1+ MB\n"
     ]
    }
   ],
   "source": [
    "df_1_6 = pd.read_csv(\"https://drive.google.com/uc?id=1EvOyJn9yNqHJjggZQ-I6smeHsRL6fN2w\")\n",
    "df_1_6.info()"
   ]
  },
  {
   "cell_type": "code",
   "execution_count": 47,
   "id": "7ad03d4c-0cbd-40ad-8b62-f1fb31c5f61f",
   "metadata": {},
   "outputs": [],
   "source": [
    "CAT_FEATURES = [\n",
    "    'race',\n",
    "    'opp_race'\n",
    "]\n",
    "\n",
    "FEATURES = [\n",
    "    'value',\n",
    "    'opp_value',\n",
    "    'rating',\n",
    "    'opp_rating'\n",
    "] + CAT_FEATURES\n",
    "\n",
    "TARGET = 'result'"
   ]
  },
  {
   "cell_type": "code",
   "execution_count": 48,
   "id": "0e03b06c-9c3f-4665-bf3b-aa0dc518f0d9",
   "metadata": {},
   "outputs": [],
   "source": [
    "random_state = 1\n",
    "X_train_1_6, X_val_1_6, y_train_1_6, y_val_1_6 = train_test_split(df_1_6[FEATURES], df_1_6[TARGET], test_size=0.2, random_state=random_state)\n",
    "\n",
    "draw_weight = 1.5\n",
    "class_weights = compute_class_weight(class_weight={'D': draw_weight, 'W': 1, 'L': 1} , classes=np.unique(y_train_1_6), y=y_train_1_6)\n",
    "class_weights_dict = dict(zip(np.unique(y_train_1_6), class_weights))\n",
    "\n",
    "train_pool_1_6 = Pool(X_train_1_6, y_train_1_6, cat_features=CAT_FEATURES, weight=[class_weights_dict[label] for label in y_train_1_6])\n",
    "eval_pool_1_6 = Pool(X_val_1_6, y_val_1_6, cat_features=CAT_FEATURES)"
   ]
  },
  {
   "cell_type": "code",
   "execution_count": 49,
   "id": "5495ebc8-adb0-49e6-80d3-af7c67cf3613",
   "metadata": {},
   "outputs": [
    {
     "name": "stdout",
     "output_type": "stream",
     "text": [
      "0:\tlearn: 0.3996537\ttest: 0.4402916\tbest: 0.4402916 (0)\ttotal: 212ms\tremaining: 17m 41s\n",
      "100:\tlearn: 0.4369587\ttest: 0.4781381\tbest: 0.4784266 (97)\ttotal: 16.9s\tremaining: 13m 38s\n",
      "200:\tlearn: 0.4408404\ttest: 0.4797935\tbest: 0.4798998 (193)\ttotal: 33.5s\tremaining: 13m 20s\n",
      "300:\tlearn: 0.4436019\ttest: 0.4795808\tbest: 0.4806591 (244)\ttotal: 50.3s\tremaining: 13m 4s\n",
      "400:\tlearn: 0.4458647\ttest: 0.4798846\tbest: 0.4806591 (244)\ttotal: 1m 6s\tremaining: 12m 42s\n",
      "500:\tlearn: 0.4476289\ttest: 0.4799605\tbest: 0.4806591 (244)\ttotal: 1m 23s\tremaining: 12m 26s\n",
      "600:\tlearn: 0.4498658\ttest: 0.4793227\tbest: 0.4806591 (244)\ttotal: 1m 39s\tremaining: 12m 11s\n",
      "700:\tlearn: 0.4522031\ttest: 0.4795656\tbest: 0.4806591 (244)\ttotal: 1m 56s\tremaining: 11m 55s\n",
      "Stopped by overfitting detector  (500 iterations wait)\n",
      "\n",
      "bestTest = 0.4806591237\n",
      "bestIteration = 244\n",
      "\n",
      "Shrink model to first 245 iterations.\n"
     ]
    },
    {
     "data": {
      "text/plain": [
       "<catboost.core.CatBoostClassifier at 0x2c000188f80>"
      ]
     },
     "execution_count": 49,
     "metadata": {},
     "output_type": "execute_result"
    }
   ],
   "source": [
    "model_1_6 = CatBoostClassifier(\n",
    "    iterations=5000,\n",
    "    learning_rate=0.1,\n",
    "    depth=6,\n",
    "    l2_leaf_reg=3,\n",
    "    bagging_temperature=1.0,\n",
    "    cat_features=CAT_FEATURES,\n",
    "    loss_function='MultiClass',\n",
    "    eval_metric='Accuracy',\n",
    "    random_seed=random_state,\n",
    "    verbose=100\n",
    ")\n",
    "model_1_6.fit(train_pool_1_6, eval_set=eval_pool_1_6, plot=False, verbose=100, use_best_model=True, early_stopping_rounds=500)"
   ]
  },
  {
   "cell_type": "code",
   "execution_count": 50,
   "id": "e3529dbf-8ac4-417f-bac6-4846747a74c8",
   "metadata": {},
   "outputs": [],
   "source": [
    "# Save model\n",
    "model_1_6.save_model('model_1_6.cbm')"
   ]
  },
  {
   "cell_type": "code",
   "execution_count": 51,
   "id": "301dff05-82a2-4ad2-b6ea-ecd538422116",
   "metadata": {},
   "outputs": [],
   "source": [
    "# Load model\n",
    "# model_1_6 = CatBoostClassifier()\n",
    "# model_1_6.load_model('model_1_6.cbm')"
   ]
  },
  {
   "cell_type": "code",
   "execution_count": 52,
   "id": "3aa6625a-80a5-4f2a-b2a2-f0b4c6595ebc",
   "metadata": {},
   "outputs": [
    {
     "name": "stdout",
     "output_type": "stream",
     "text": [
      "Accuracy: 48.1%\n",
      "Classification Report:\n",
      "              precision    recall  f1-score   support\n",
      "\n",
      "           D       0.29      0.01      0.01     12730\n",
      "           L       0.48      0.59      0.53     26515\n",
      "           W       0.48      0.60      0.53     26600\n",
      "\n",
      "    accuracy                           0.48     65845\n",
      "   macro avg       0.42      0.40      0.36     65845\n",
      "weighted avg       0.44      0.48      0.43     65845\n",
      "\n"
     ]
    }
   ],
   "source": [
    "y_pred_1_6 = model_1_6.predict(X_val_1_6)\n",
    "accuracy_1_6 = accuracy_score(y_val_1_6, y_pred_1_6)\n",
    "print(f'Accuracy: {accuracy_1_6:.1%}')\n",
    "print(\"Classification Report:\")\n",
    "print(classification_report(y_val_1_6, y_pred_1_6))"
   ]
  },
  {
   "cell_type": "code",
   "execution_count": 54,
   "id": "bc0903b3-262a-4ede-a3bd-eff2230bcbcd",
   "metadata": {},
   "outputs": [
    {
     "name": "stdout",
     "output_type": "stream",
     "text": [
      "\n",
      "процент побед: 50.4%\n",
      "процент ничьих : 0.4%\n",
      "процент поражений : 49.2%\n",
      "\n"
     ]
    },
    {
     "data": {
      "image/png": "[encoded data removed]",
      "text/plain": [
       "<Figure size 900x600 with 1 Axes>"
      ]
     },
     "metadata": {},
     "output_type": "display_data"
    }
   ],
   "source": [
    "# Predicted results distribution\n",
    "class_counts = pd.Series(y_pred_1_6.flatten()).value_counts(normalize=False)\n",
    "sum_counts = class_counts.sum()\n",
    "W_weight = class_counts.W / sum_counts\n",
    "D_weight = class_counts.D / sum_counts\n",
    "L_weight = class_counts.L / sum_counts\n",
    "print(f\"\"\"\n",
    "percent of wins: {W_weight:.1%}\n",
    "percent of draws: {D_weight:.1%}\n",
    "percent of losses: {L_weight:.1%}\n",
    "\"\"\")\n",
    "\n",
    "ax = sns.barplot(x=class_counts.index, y=class_counts.values)\n",
    "plt.title('Distribution of Predicted Results (model 1.6)\\n')\n",
    "plt.xlabel('Results')\n",
    "plt.ylabel('Amount of Results')\n",
    "\n",
    "for p in ax.patches:\n",
    "    count = int(p.get_height())  \n",
    "    ax.annotate(f'{count}', \n",
    "                      (p.get_x() + p.get_width() / 2., p.get_height()), \n",
    "                      ha='center', va='bottom', \n",
    "                      fontsize=20, color='black', \n",
    "                      xytext=(0, 5),\n",
    "                      textcoords='offset points')\n",
    "    \n",
    "sns.despine()"
   ]
  },
  {
   "cell_type": "code",
   "execution_count": 55,
   "id": "093960de-c809-49de-9bc6-623329dd1da6",
   "metadata": {},
   "outputs": [
    {
     "name": "stdout",
     "output_type": "stream",
     "text": [
      "Accuracy на тестовых данных: 48.5%\n"
     ]
    }
   ],
   "source": [
    "test_df_1_6 = test_df[FEATURES + ['result', 'random_result']].copy()\n",
    "probabilities = model_1_6.predict_proba(test_df_1_6[FEATURES])\n",
    "for i, class_name in enumerate(model_1_6.classes_):\n",
    "    test_df_1_6[f'probability_{class_name}'] = probabilities[:, i]\n",
    "test_df_1_6['prediction'] = model_1_6.predict(test_df_1_6[FEATURES]).flatten()\n",
    "test_accuracy_1_6 = (test_df_1_6['result'] == test_df_1_6['prediction']).mean()\n",
    "\n",
    "print(f'Test data accuracy: {test_accuracy_1_6:.1%}')"
   ]
  },
  {
   "cell_type": "markdown",
   "id": "1cd77041-61e7-4124-b402-7b34ddadd8db",
   "metadata": {},
   "source": [
    "No improvements comparing with model 1.3."
   ]
  },
  {
   "cell_type": "markdown",
   "id": "482845ac-8696-41f4-bf42-bdd560499f54",
   "metadata": {},
   "source": [
    "# Adjusting hyperparameters\n",
    "Basing on better model (1.3), let's adjust hyperparameters."
   ]
  },
  {
   "cell_type": "code",
   "execution_count": 6,
   "id": "9769af20-64ad-4cbf-a64e-35e7b314711c",
   "metadata": {},
   "outputs": [],
   "source": [
    "CAT_FEATURES = [\n",
    "    'race',\n",
    "    'opp_race'\n",
    "]\n",
    "\n",
    "FEATURES = [\n",
    "    'value',\n",
    "    'opp_value',\n",
    "    'rating',\n",
    "    'opp_rating'\n",
    "] + CAT_FEATURES\n",
    "\n",
    "TARGET = 'result'"
   ]
  },
  {
   "cell_type": "code",
   "execution_count": 7,
   "id": "3527a67a-9bcf-49e5-afab-65972f2da266",
   "metadata": {},
   "outputs": [],
   "source": [
    "random_state = 1\n",
    "X_train_2_1, X_val_2_1, y_train_2_1, y_val_2_1 = train_test_split(df[FEATURES], df[TARGET], test_size=0.2, random_state=random_state)"
   ]
  },
  {
   "cell_type": "code",
   "execution_count": 27,
   "id": "ce9ba1bd-6362-4937-9368-34b3966e0b00",
   "metadata": {},
   "outputs": [],
   "source": [
    "# Function for adjusting hyperparameters\n",
    "def objective(trial):\n",
    "    \n",
    "    learning_rate = trial.suggest_float('learning_rate', 0.01, 0.5, log=True)\n",
    "    depth = trial.suggest_int('depth', 4, 10)\n",
    "    l2_leaf_reg = trial.suggest_int('l2_leaf_reg', 1, 20)\n",
    "    bagging_temperature = trial.suggest_float('bagging_temperature', 0, 1)\n",
    "    draw_weight = trial.suggest_float('draw_weight', 1.0, 2.0)\n",
    "\n",
    "    class_weights = compute_class_weight(\n",
    "        class_weight={'D': draw_weight, 'W': 1, 'L': 1}, \n",
    "        classes=np.unique(y_train_2_1), \n",
    "        y=y_train_2_1\n",
    "    )\n",
    "    class_weights_dict = dict(zip(np.unique(y_train_2_1), class_weights))\n",
    "\n",
    "    train_pool_2_1 = Pool(X_train_2_1, y_train_2_1, cat_features=CAT_FEATURES, \n",
    "                      weight=[class_weights_dict[label] for label in y_train_2_1])\n",
    "    eval_pool_2_1 = Pool(X_val_2_1, y_val_2_1, cat_features=CAT_FEATURES)\n",
    "  \n",
    "    model_2_1 = CatBoostClassifier(\n",
    "        iterations=5000,\n",
    "        learning_rate=learning_rate,\n",
    "        depth=depth,\n",
    "        l2_leaf_reg=l2_leaf_reg,\n",
    "        bagging_temperature=bagging_temperature,\n",
    "        cat_features=CAT_FEATURES,\n",
    "        loss_function='MultiClass',\n",
    "        eval_metric='Accuracy',\n",
    "        random_seed=random_state,\n",
    "        verbose=0\n",
    "    )\n",
    "\n",
    "    model_2_1.fit(train_pool_2_1, eval_set=eval_pool_2_1, verbose=False, use_best_model=True, early_stopping_rounds=500)\n",
    "\n",
    "    y_pred_2_1 = model_2_1.predict(X_val_2_1)\n",
    "    accuracy_2_1 = accuracy_score(y_val_2_1, y_pred_2_1)\n",
    "    print(f\"Trial {trial.number}, accuracy: {accuracy_2_1:.1%}\")\n",
    "\n",
    "    return accuracy_2_1\n",
    "\n",
    "# Saving results function\n",
    "def save_results(study, filename='optuna_results.csv'):\n",
    "    results = study.trials_dataframe()\n",
    "    results.to_csv(filename, index=False)\n",
    "    print(f\"Результаты сохранены в '{filename}'\")\n",
    "\n",
    "# Loading results function\n",
    "def load_results(filename='optuna_results.csv'):\n",
    "    if os.path.exists(filename):\n",
    "        return pd.read_csv(filename)\n",
    "    return None"
   ]
  },
  {
   "cell_type": "code",
   "execution_count": 9,
   "id": "3f4ce901-df86-4c8e-984f-e21402f1e393",
   "metadata": {},
   "outputs": [
    {
     "name": "stderr",
     "output_type": "stream",
     "text": [
      "[I 2024-11-28 14:50:03,454] A new study created in memory with name: BB_predictions\n"
     ]
    },
    {
     "data": {
      "application/vnd.jupyter.widget-view+json": {
       "model_id": "d9a5889010a34ac7912f80933254bfca",
       "version_major": 2,
       "version_minor": 0
      },
      "text/plain": [
       "  0%|          | 0/1 [00:00<?, ?it/s]"
      ]
     },
     "metadata": {},
     "output_type": "display_data"
    },
    {
     "name": "stdout",
     "output_type": "stream",
     "text": [
      "Trial 0, accuracy: 50.5%\n",
      "[I 2024-11-28 15:54:51,741] Trial 0 finished with value: 0.5047607968590956 and parameters: {'learning_rate': 0.015247327185954698, 'depth': 5, 'l2_leaf_reg': 16, 'bagging_temperature': 0.33845146713288, 'draw_weight': 1.0614138521076892}. Best is trial 0 with value: 0.5047607968590956.\n",
      "Результаты сохранены в 'optuna_results.csv'\n",
      "0 trial, accuracy = 50.5%\n"
     ]
    },
    {
     "data": {
      "application/vnd.jupyter.widget-view+json": {
       "model_id": "56d55de6a68540968d7d2b38a16e7119",
       "version_major": 2,
       "version_minor": 0
      },
      "text/plain": [
       "  0%|          | 0/1 [00:00<?, ?it/s]"
      ]
     },
     "metadata": {},
     "output_type": "display_data"
    },
    {
     "name": "stdout",
     "output_type": "stream",
     "text": [
      "Trial 1, accuracy: 49.9%\n",
      "[I 2024-11-28 16:27:38,254] Trial 1 finished with value: 0.4993718191071688 and parameters: {'learning_rate': 0.03978581595784864, 'depth': 6, 'l2_leaf_reg': 10, 'bagging_temperature': 0.8962678885008277, 'draw_weight': 1.7820515056009625}. Best is trial 0 with value: 0.5047607968590956.\n",
      "Результаты сохранены в 'optuna_results.csv'\n",
      "1 trial, accuracy = 49.9%\n"
     ]
    },
    {
     "data": {
      "application/vnd.jupyter.widget-view+json": {
       "model_id": "d569d6fffb57401bb115dfbda13c40b5",
       "version_major": 2,
       "version_minor": 0
      },
      "text/plain": [
       "  0%|          | 0/1 [00:00<?, ?it/s]"
      ]
     },
     "metadata": {},
     "output_type": "display_data"
    },
    {
     "name": "stdout",
     "output_type": "stream",
     "text": [
      "Trial 2, accuracy: 50.5%\n",
      "[I 2024-11-28 16:59:04,505] Trial 2 finished with value: 0.505179584120983 and parameters: {'learning_rate': 0.09636188342069889, 'depth': 5, 'l2_leaf_reg': 7, 'bagging_temperature': 0.6957012259360544, 'draw_weight': 1.038782292231987}. Best is trial 2 with value: 0.505179584120983.\n",
      "Результаты сохранены в 'optuna_results.csv'\n",
      "2 trial, accuracy = 50.5%\n"
     ]
    },
    {
     "data": {
      "application/vnd.jupyter.widget-view+json": {
       "model_id": "efbfd43cdd9346a8bbf461cc2248a185",
       "version_major": 2,
       "version_minor": 0
      },
      "text/plain": [
       "  0%|          | 0/1 [00:00<?, ?it/s]"
      ]
     },
     "metadata": {},
     "output_type": "display_data"
    },
    {
     "name": "stdout",
     "output_type": "stream",
     "text": [
      "Trial 3, accuracy: 50.4%\n",
      "[I 2024-11-28 17:51:04,985] Trial 3 finished with value: 0.5039784789879308 and parameters: {'learning_rate': 0.012665453192413701, 'depth': 4, 'l2_leaf_reg': 14, 'bagging_temperature': 0.9252790755686408, 'draw_weight': 1.2269885351037915}. Best is trial 2 with value: 0.505179584120983.\n",
      "Результаты сохранены в 'optuna_results.csv'\n",
      "3 trial, accuracy = 50.4%\n"
     ]
    },
    {
     "data": {
      "application/vnd.jupyter.widget-view+json": {
       "model_id": "890c23a344334e02b800cda8d9d83c8b",
       "version_major": 2,
       "version_minor": 0
      },
      "text/plain": [
       "  0%|          | 0/1 [00:00<?, ?it/s]"
      ]
     },
     "metadata": {},
     "output_type": "display_data"
    },
    {
     "name": "stdout",
     "output_type": "stream",
     "text": [
      "Trial 4, accuracy: 50.4%\n",
      "[I 2024-11-28 18:04:53,164] Trial 4 finished with value: 0.5043769085356987 and parameters: {'learning_rate': 0.1787787542312296, 'depth': 5, 'l2_leaf_reg': 8, 'bagging_temperature': 0.29928423821224737, 'draw_weight': 1.5123191995002374}. Best is trial 2 with value: 0.505179584120983.\n",
      "Результаты сохранены в 'optuna_results.csv'\n",
      "4 trial, accuracy = 50.4%\n"
     ]
    },
    {
     "data": {
      "application/vnd.jupyter.widget-view+json": {
       "model_id": "0a40b4627a9e45da8089c2c02bea80a1",
       "version_major": 2,
       "version_minor": 0
      },
      "text/plain": [
       "  0%|          | 0/1 [00:00<?, ?it/s]"
      ]
     },
     "metadata": {},
     "output_type": "display_data"
    },
    {
     "name": "stdout",
     "output_type": "stream",
     "text": [
      "Trial 5, accuracy: 49.3%\n",
      "[I 2024-11-28 19:01:04,001] Trial 5 finished with value: 0.49294750618002037 and parameters: {'learning_rate': 0.01328980560084124, 'depth': 8, 'l2_leaf_reg': 12, 'bagging_temperature': 0.4428133368463626, 'draw_weight': 1.8982616145760827}. Best is trial 2 with value: 0.505179584120983.\n",
      "Результаты сохранены в 'optuna_results.csv'\n",
      "5 trial, accuracy = 49.3%\n"
     ]
    },
    {
     "data": {
      "application/vnd.jupyter.widget-view+json": {
       "model_id": "09723624827342d6bc8253e22a5d36fb",
       "version_major": 2,
       "version_minor": 0
      },
      "text/plain": [
       "  0%|          | 0/1 [00:00<?, ?it/s]"
      ]
     },
     "metadata": {},
     "output_type": "display_data"
    },
    {
     "name": "stdout",
     "output_type": "stream",
     "text": [
      "Trial 6, accuracy: 50.5%\n",
      "[I 2024-11-28 20:25:42,103] Trial 6 finished with value: 0.5053773447724298 and parameters: {'learning_rate': 0.02590343226569945, 'depth': 8, 'l2_leaf_reg': 10, 'bagging_temperature': 0.05063173203977955, 'draw_weight': 1.2404745542589755}. Best is trial 6 with value: 0.5053773447724298.\n",
      "Результаты сохранены в 'optuna_results.csv'\n",
      "6 trial, accuracy = 50.5%\n"
     ]
    },
    {
     "data": {
      "application/vnd.jupyter.widget-view+json": {
       "model_id": "f5661ab88b0346c7b13066a497edf904",
       "version_major": 2,
       "version_minor": 0
      },
      "text/plain": [
       "  0%|          | 0/1 [00:00<?, ?it/s]"
      ]
     },
     "metadata": {},
     "output_type": "display_data"
    },
    {
     "name": "stdout",
     "output_type": "stream",
     "text": [
      "Trial 7, accuracy: 50.3%\n",
      "[I 2024-11-28 20:37:42,953] Trial 7 finished with value: 0.5031496291987786 and parameters: {'learning_rate': 0.3256886555775962, 'depth': 6, 'l2_leaf_reg': 19, 'bagging_temperature': 0.028256208734956823, 'draw_weight': 1.6518404328082257}. Best is trial 6 with value: 0.5053773447724298.\n",
      "Результаты сохранены в 'optuna_results.csv'\n",
      "7 trial, accuracy = 50.3%\n"
     ]
    },
    {
     "data": {
      "application/vnd.jupyter.widget-view+json": {
       "model_id": "05aaaeb6a4f64e1ebafbf9c24ffef6ce",
       "version_major": 2,
       "version_minor": 0
      },
      "text/plain": [
       "  0%|          | 0/1 [00:00<?, ?it/s]"
      ]
     },
     "metadata": {},
     "output_type": "display_data"
    },
    {
     "name": "stdout",
     "output_type": "stream",
     "text": [
      "Trial 8, accuracy: 50.5%\n",
      "[I 2024-11-28 21:14:31,702] Trial 8 finished with value: 0.5052348407735932 and parameters: {'learning_rate': 0.11852419103157817, 'depth': 6, 'l2_leaf_reg': 11, 'bagging_temperature': 0.5206417423752475, 'draw_weight': 1.3261693272869448}. Best is trial 6 with value: 0.5053773447724298.\n",
      "Результаты сохранены в 'optuna_results.csv'\n",
      "8 trial, accuracy = 50.5%\n"
     ]
    },
    {
     "data": {
      "application/vnd.jupyter.widget-view+json": {
       "model_id": "71e7e341c7314db7a8bd5f673329986d",
       "version_major": 2,
       "version_minor": 0
      },
      "text/plain": [
       "  0%|          | 0/1 [00:00<?, ?it/s]"
      ]
     },
     "metadata": {},
     "output_type": "display_data"
    },
    {
     "name": "stdout",
     "output_type": "stream",
     "text": [
      "Trial 9, accuracy: 50.5%\n",
      "[I 2024-11-28 21:28:51,825] Trial 9 finished with value: 0.504993456449033 and parameters: {'learning_rate': 0.13423714033006293, 'depth': 4, 'l2_leaf_reg': 4, 'bagging_temperature': 0.4845186557291472, 'draw_weight': 1.3498676151869116}. Best is trial 6 with value: 0.5053773447724298.\n",
      "Результаты сохранены в 'optuna_results.csv'\n",
      "9 trial, accuracy = 50.5%\n"
     ]
    },
    {
     "data": {
      "application/vnd.jupyter.widget-view+json": {
       "model_id": "18f9b8835ab84bd9a7bd8facf0adf408",
       "version_major": 2,
       "version_minor": 0
      },
      "text/plain": [
       "  0%|          | 0/1 [00:00<?, ?it/s]"
      ]
     },
     "metadata": {},
     "output_type": "display_data"
    },
    {
     "name": "stdout",
     "output_type": "stream",
     "text": [
      "Trial 10, accuracy: 50.4%\n",
      "[I 2024-11-28 22:55:30,538] Trial 10 finished with value: 0.5044001744946924 and parameters: {'learning_rate': 0.04056389197705904, 'depth': 10, 'l2_leaf_reg': 1, 'bagging_temperature': 0.0660826388731447, 'draw_weight': 1.5151278954619296}. Best is trial 6 with value: 0.5053773447724298.\n",
      "Результаты сохранены в 'optuna_results.csv'\n",
      "10 trial, accuracy = 50.4%\n"
     ]
    },
    {
     "data": {
      "application/vnd.jupyter.widget-view+json": {
       "model_id": "74d99ed244954a55aeedf4b646d10804",
       "version_major": 2,
       "version_minor": 0
      },
      "text/plain": [
       "  0%|          | 0/1 [00:00<?, ?it/s]"
      ]
     },
     "metadata": {},
     "output_type": "display_data"
    },
    {
     "name": "stdout",
     "output_type": "stream",
     "text": [
      "Trial 11, accuracy: 50.5%\n",
      "[I 2024-11-29 00:22:37,457] Trial 11 finished with value: 0.5051708593863603 and parameters: {'learning_rate': 0.04365121305367752, 'depth': 8, 'l2_leaf_reg': 10, 'bagging_temperature': 0.7051151304750518, 'draw_weight': 1.2689120015524493}. Best is trial 6 with value: 0.5053773447724298.\n",
      "Результаты сохранены в 'optuna_results.csv'\n",
      "11 trial, accuracy = 50.5%\n"
     ]
    },
    {
     "data": {
      "application/vnd.jupyter.widget-view+json": {
       "model_id": "e383da0143b542408489659350b14693",
       "version_major": 2,
       "version_minor": 0
      },
      "text/plain": [
       "  0%|          | 0/1 [00:00<?, ?it/s]"
      ]
     },
     "metadata": {},
     "output_type": "display_data"
    },
    {
     "name": "stdout",
     "output_type": "stream",
     "text": [
      "Trial 12, accuracy: 50.5%\n",
      "[I 2024-11-29 01:08:57,266] Trial 12 finished with value: 0.5046561000436237 and parameters: {'learning_rate': 0.025228053603064318, 'depth': 8, 'l2_leaf_reg': 14, 'bagging_temperature': 0.17541652583050893, 'draw_weight': 1.3796441630831346}. Best is trial 6 with value: 0.5053773447724298.\n",
      "Результаты сохранены в 'optuna_results.csv'\n",
      "12 trial, accuracy = 50.5%\n"
     ]
    },
    {
     "data": {
      "application/vnd.jupyter.widget-view+json": {
       "model_id": "e33ffa03a8064280b4140ed9bc09c523",
       "version_major": 2,
       "version_minor": 0
      },
      "text/plain": [
       "  0%|          | 0/1 [00:00<?, ?it/s]"
      ]
     },
     "metadata": {},
     "output_type": "display_data"
    },
    {
     "name": "stdout",
     "output_type": "stream",
     "text": [
      "Trial 13, accuracy: 50.4%\n",
      "[I 2024-11-29 01:48:39,471] Trial 13 finished with value: 0.5037719936018613 and parameters: {'learning_rate': 0.4768136133169488, 'depth': 10, 'l2_leaf_reg': 6, 'bagging_temperature': 0.6255053319070786, 'draw_weight': 1.1721365826921568}. Best is trial 6 with value: 0.5053773447724298.\n",
      "Результаты сохранены в 'optuna_results.csv'\n",
      "13 trial, accuracy = 50.4%\n"
     ]
    },
    {
     "data": {
      "application/vnd.jupyter.widget-view+json": {
       "model_id": "67944742cb194e6ea8a38fc652dcca3c",
       "version_major": 2,
       "version_minor": 0
      },
      "text/plain": [
       "  0%|          | 0/1 [00:00<?, ?it/s]"
      ]
     },
     "metadata": {},
     "output_type": "display_data"
    },
    {
     "name": "stdout",
     "output_type": "stream",
     "text": [
      "Trial 14, accuracy: 50.5%\n",
      "[I 2024-11-29 02:35:34,480] Trial 14 finished with value: 0.505365711792933 and parameters: {'learning_rate': 0.06781785708064128, 'depth': 7, 'l2_leaf_reg': 12, 'bagging_temperature': 0.23369922228759268, 'draw_weight': 1.4071480811360924}. Best is trial 6 with value: 0.5053773447724298.\n",
      "Результаты сохранены в 'optuna_results.csv'\n",
      "14 trial, accuracy = 50.5%\n"
     ]
    },
    {
     "data": {
      "application/vnd.jupyter.widget-view+json": {
       "model_id": "24aa1c5e855842b5a24a4ae388d9829d",
       "version_major": 2,
       "version_minor": 0
      },
      "text/plain": [
       "  0%|          | 0/1 [00:00<?, ?it/s]"
      ]
     },
     "metadata": {},
     "output_type": "display_data"
    },
    {
     "name": "stdout",
     "output_type": "stream",
     "text": [
      "Trial 15, accuracy: 50.3%\n",
      "[I 2024-11-29 03:17:25,500] Trial 15 finished with value: 0.5030740148320488 and parameters: {'learning_rate': 0.06318690983406851, 'depth': 9, 'l2_leaf_reg': 20, 'bagging_temperature': 0.16310305066636843, 'draw_weight': 1.6653163883548245}. Best is trial 6 with value: 0.5053773447724298.\n",
      "Результаты сохранены в 'optuna_results.csv'\n",
      "15 trial, accuracy = 50.3%\n"
     ]
    },
    {
     "data": {
      "application/vnd.jupyter.widget-view+json": {
       "model_id": "17b88598d46545e7b9c8c0829036a3c7",
       "version_major": 2,
       "version_minor": 0
      },
      "text/plain": [
       "  0%|          | 0/1 [00:00<?, ?it/s]"
      ]
     },
     "metadata": {},
     "output_type": "display_data"
    },
    {
     "name": "stdout",
     "output_type": "stream",
     "text": [
      "Trial 16, accuracy: 50.5%\n",
      "[I 2024-11-29 04:32:49,329] Trial 16 finished with value: 0.5051068779991276 and parameters: {'learning_rate': 0.022516513572336225, 'depth': 7, 'l2_leaf_reg': 17, 'bagging_temperature': 0.21560711043621228, 'draw_weight': 1.4060178141712136}. Best is trial 6 with value: 0.5053773447724298.\n",
      "Результаты сохранены в 'optuna_results.csv'\n",
      "16 trial, accuracy = 50.5%\n"
     ]
    },
    {
     "data": {
      "application/vnd.jupyter.widget-view+json": {
       "model_id": "9d722411a2174d29a971a2b53cfa7778",
       "version_major": 2,
       "version_minor": 0
      },
      "text/plain": [
       "  0%|          | 0/1 [00:00<?, ?it/s]"
      ]
     },
     "metadata": {},
     "output_type": "display_data"
    },
    {
     "name": "stdout",
     "output_type": "stream",
     "text": [
      "Trial 17, accuracy: 50.5%\n",
      "[I 2024-11-29 04:56:51,873] Trial 17 finished with value: 0.5052813726915806 and parameters: {'learning_rate': 0.06526647917724067, 'depth': 7, 'l2_leaf_reg': 13, 'bagging_temperature': 0.01148839834455151, 'draw_weight': 1.1685881374785343}. Best is trial 6 with value: 0.5053773447724298.\n",
      "Результаты сохранены в 'optuna_results.csv'\n",
      "17 trial, accuracy = 50.5%\n"
     ]
    },
    {
     "data": {
      "application/vnd.jupyter.widget-view+json": {
       "model_id": "3749d95f2de942b2b32aac7b0c168126",
       "version_major": 2,
       "version_minor": 0
      },
      "text/plain": [
       "  0%|          | 0/1 [00:00<?, ?it/s]"
      ]
     },
     "metadata": {},
     "output_type": "display_data"
    },
    {
     "name": "stdout",
     "output_type": "stream",
     "text": [
      "Trial 18, accuracy: 50.4%\n",
      "[I 2024-11-29 06:09:51,586] Trial 18 finished with value: 0.5038185255198487 and parameters: {'learning_rate': 0.023879078149813597, 'depth': 9, 'l2_leaf_reg': 9, 'bagging_temperature': 0.31809913203962853, 'draw_weight': 1.6184958132966494}. Best is trial 6 with value: 0.5053773447724298.\n",
      "Результаты сохранены в 'optuna_results.csv'\n",
      "18 trial, accuracy = 50.4%\n"
     ]
    },
    {
     "data": {
      "application/vnd.jupyter.widget-view+json": {
       "model_id": "14cc872f12884cd6a2d972877482d875",
       "version_major": 2,
       "version_minor": 0
      },
      "text/plain": [
       "  0%|          | 0/1 [00:00<?, ?it/s]"
      ]
     },
     "metadata": {},
     "output_type": "display_data"
    },
    {
     "name": "stdout",
     "output_type": "stream",
     "text": [
      "Trial 19, accuracy: 50.5%\n",
      "[I 2024-11-29 06:37:40,516] Trial 19 finished with value: 0.5046880907372401 and parameters: {'learning_rate': 0.17561883880244095, 'depth': 9, 'l2_leaf_reg': 5, 'bagging_temperature': 0.14362263801407482, 'draw_weight': 1.4248110671000633}. Best is trial 6 with value: 0.5053773447724298.\n",
      "Результаты сохранены в 'optuna_results.csv'\n",
      "19 trial, accuracy = 50.5%\n"
     ]
    },
    {
     "data": {
      "application/vnd.jupyter.widget-view+json": {
       "model_id": "50ee83e9c9464672958c23384bf3234d",
       "version_major": 2,
       "version_minor": 0
      },
      "text/plain": [
       "  0%|          | 0/1 [00:00<?, ?it/s]"
      ]
     },
     "metadata": {},
     "output_type": "display_data"
    },
    {
     "name": "stdout",
     "output_type": "stream",
     "text": [
      "Trial 20, accuracy: 50.6%\n",
      "[I 2024-11-29 08:01:29,322] Trial 20 finished with value: 0.5055082157917696 and parameters: {'learning_rate': 0.031964755228899265, 'depth': 7, 'l2_leaf_reg': 3, 'bagging_temperature': 0.27270064118712467, 'draw_weight': 1.1294358446317139}. Best is trial 20 with value: 0.5055082157917696.\n",
      "Результаты сохранены в 'optuna_results.csv'\n",
      "20 trial, accuracy = 50.6%\n"
     ]
    },
    {
     "data": {
      "application/vnd.jupyter.widget-view+json": {
       "model_id": "948a669dd5194945843ab045271d5e58",
       "version_major": 2,
       "version_minor": 0
      },
      "text/plain": [
       "  0%|          | 0/1 [00:00<?, ?it/s]"
      ]
     },
     "metadata": {},
     "output_type": "display_data"
    },
    {
     "name": "stdout",
     "output_type": "stream",
     "text": [
      "Trial 21, accuracy: 50.5%\n",
      "[I 2024-11-29 08:51:39,989] Trial 21 finished with value: 0.5053744365275556 and parameters: {'learning_rate': 0.031567526759644346, 'depth': 7, 'l2_leaf_reg': 2, 'bagging_temperature': 0.2604846179105473, 'draw_weight': 1.1195344130604212}. Best is trial 20 with value: 0.5055082157917696.\n",
      "Результаты сохранены в 'optuna_results.csv'\n",
      "21 trial, accuracy = 50.5%\n"
     ]
    },
    {
     "data": {
      "application/vnd.jupyter.widget-view+json": {
       "model_id": "61f1a143a3e04cd58a15bce7152a2d2d",
       "version_major": 2,
       "version_minor": 0
      },
      "text/plain": [
       "  0%|          | 0/1 [00:00<?, ?it/s]"
      ]
     },
     "metadata": {},
     "output_type": "display_data"
    },
    {
     "name": "stdout",
     "output_type": "stream",
     "text": [
      "Trial 22, accuracy: 50.6%\n",
      "[I 2024-11-29 10:16:17,910] Trial 22 finished with value: 0.5056827104842228 and parameters: {'learning_rate': 0.030708578714718104, 'depth': 8, 'l2_leaf_reg': 1, 'bagging_temperature': 0.10197588421707271, 'draw_weight': 1.004161718918664}. Best is trial 22 with value: 0.5056827104842228.\n",
      "Результаты сохранены в 'optuna_results.csv'\n",
      "22 trial, accuracy = 50.6%\n"
     ]
    },
    {
     "data": {
      "application/vnd.jupyter.widget-view+json": {
       "model_id": "4f0358776f5240da8e982385e80896d3",
       "version_major": 2,
       "version_minor": 0
      },
      "text/plain": [
       "  0%|          | 0/1 [00:00<?, ?it/s]"
      ]
     },
     "metadata": {},
     "output_type": "display_data"
    },
    {
     "name": "stdout",
     "output_type": "stream",
     "text": [
      "Trial 23, accuracy: 50.5%\n",
      "[I 2024-11-29 11:06:00,571] Trial 23 finished with value: 0.5049992729387814 and parameters: {'learning_rate': 0.017613393046375395, 'depth': 8, 'l2_leaf_reg': 3, 'bagging_temperature': 0.10620362086230639, 'draw_weight': 1.0099431060174662}. Best is trial 22 with value: 0.5056827104842228.\n",
      "Результаты сохранены в 'optuna_results.csv'\n",
      "23 trial, accuracy = 50.5%\n"
     ]
    },
    {
     "data": {
      "application/vnd.jupyter.widget-view+json": {
       "model_id": "5db1fb9050174a7e835fef7532f3879b",
       "version_major": 2,
       "version_minor": 0
      },
      "text/plain": [
       "  0%|          | 0/1 [00:00<?, ?it/s]"
      ]
     },
     "metadata": {},
     "output_type": "display_data"
    },
    {
     "name": "stdout",
     "output_type": "stream",
     "text": [
      "Trial 24, accuracy: 50.5%\n",
      "[I 2024-11-29 12:19:44,764] Trial 24 finished with value: 0.5052842809364548 and parameters: {'learning_rate': 0.030881224114464728, 'depth': 8, 'l2_leaf_reg': 1, 'bagging_temperature': 0.37752657679989754, 'draw_weight': 1.1188325680896283}. Best is trial 22 with value: 0.5056827104842228.\n",
      "Результаты сохранены в 'optuna_results.csv'\n",
      "24 trial, accuracy = 50.5%\n"
     ]
    },
    {
     "data": {
      "application/vnd.jupyter.widget-view+json": {
       "model_id": "ec648563e9044df59c5a360f2278adb6",
       "version_major": 2,
       "version_minor": 0
      },
      "text/plain": [
       "  0%|          | 0/1 [00:00<?, ?it/s]"
      ]
     },
     "metadata": {},
     "output_type": "display_data"
    },
    {
     "name": "stdout",
     "output_type": "stream",
     "text": [
      "Trial 25, accuracy: 50.5%\n",
      "[I 2024-11-29 14:20:26,422] Trial 25 finished with value: 0.5048916678784353 and parameters: {'learning_rate': 0.010162721355084711, 'depth': 9, 'l2_leaf_reg': 4, 'bagging_temperature': 0.11425380638631415, 'draw_weight': 1.2677570393412059}. Best is trial 22 with value: 0.5056827104842228.\n",
      "Результаты сохранены в 'optuna_results.csv'\n",
      "25 trial, accuracy = 50.5%\n"
     ]
    },
    {
     "data": {
      "application/vnd.jupyter.widget-view+json": {
       "model_id": "019918a3f1d54c9b943aed6c38084d73",
       "version_major": 2,
       "version_minor": 0
      },
      "text/plain": [
       "  0%|          | 0/1 [00:00<?, ?it/s]"
      ]
     },
     "metadata": {},
     "output_type": "display_data"
    },
    {
     "name": "stdout",
     "output_type": "stream",
     "text": [
      "Trial 26, accuracy: 50.6%\n",
      "[I 2024-11-29 15:26:37,726] Trial 26 finished with value: 0.5055402064853861 and parameters: {'learning_rate': 0.05164575674407901, 'depth': 6, 'l2_leaf_reg': 3, 'bagging_temperature': 0.3978368959443349, 'draw_weight': 1.0973973052882315}. Best is trial 22 with value: 0.5056827104842228.\n",
      "Результаты сохранены в 'optuna_results.csv'\n",
      "26 trial, accuracy = 50.6%\n"
     ]
    },
    {
     "data": {
      "application/vnd.jupyter.widget-view+json": {
       "model_id": "e94ff689197445f899de6086428d3e1a",
       "version_major": 2,
       "version_minor": 0
      },
      "text/plain": [
       "  0%|          | 0/1 [00:00<?, ?it/s]"
      ]
     },
     "metadata": {},
     "output_type": "display_data"
    },
    {
     "name": "stdout",
     "output_type": "stream",
     "text": [
      "Trial 27, accuracy: 50.5%\n",
      "[I 2024-11-29 16:36:17,614] Trial 27 finished with value: 0.5054180602006689 and parameters: {'learning_rate': 0.04855536205648559, 'depth': 6, 'l2_leaf_reg': 3, 'bagging_temperature': 0.4040698431569452, 'draw_weight': 1.098352997663777}. Best is trial 22 with value: 0.5056827104842228.\n",
      "Результаты сохранены в 'optuna_results.csv'\n",
      "27 trial, accuracy = 50.5%\n"
     ]
    },
    {
     "data": {
      "application/vnd.jupyter.widget-view+json": {
       "model_id": "cd60a9cbe8f145e88c5521ffcd378bd8",
       "version_major": 2,
       "version_minor": 0
      },
      "text/plain": [
       "  0%|          | 0/1 [00:00<?, ?it/s]"
      ]
     },
     "metadata": {},
     "output_type": "display_data"
    },
    {
     "name": "stdout",
     "output_type": "stream",
     "text": [
      "Trial 28, accuracy: 48.6%\n",
      "[I 2024-11-29 16:54:18,781] Trial 28 finished with value: 0.48604042460375163 and parameters: {'learning_rate': 0.05329334018952059, 'depth': 6, 'l2_leaf_reg': 6, 'bagging_temperature': 0.4928320170450608, 'draw_weight': 1.9951901572885895}. Best is trial 22 with value: 0.5056827104842228.\n",
      "Результаты сохранены в 'optuna_results.csv'\n",
      "28 trial, accuracy = 48.6%\n"
     ]
    },
    {
     "data": {
      "application/vnd.jupyter.widget-view+json": {
       "model_id": "46944542bb3c425f9688a03f84e25780",
       "version_major": 2,
       "version_minor": 0
      },
      "text/plain": [
       "  0%|          | 0/1 [00:00<?, ?it/s]"
      ]
     },
     "metadata": {},
     "output_type": "display_data"
    },
    {
     "name": "stdout",
     "output_type": "stream",
     "text": [
      "Trial 29, accuracy: 50.5%\n",
      "[I 2024-11-29 17:59:42,678] Trial 29 finished with value: 0.5049992729387814 and parameters: {'learning_rate': 0.017767582737974682, 'depth': 5, 'l2_leaf_reg': 1, 'bagging_temperature': 0.5749934772040075, 'draw_weight': 1.0272271075549257}. Best is trial 22 with value: 0.5056827104842228.\n",
      "Результаты сохранены в 'optuna_results.csv'\n",
      "29 trial, accuracy = 50.5%\n"
     ]
    },
    {
     "data": {
      "application/vnd.jupyter.widget-view+json": {
       "model_id": "caee8c2cab444c66a162767156e3c982",
       "version_major": 2,
       "version_minor": 0
      },
      "text/plain": [
       "  0%|          | 0/1 [00:00<?, ?it/s]"
      ]
     },
     "metadata": {},
     "output_type": "display_data"
    },
    {
     "name": "stdout",
     "output_type": "stream",
     "text": [
      "Trial 30, accuracy: 50.5%\n",
      "[I 2024-11-29 18:18:47,730] Trial 30 finished with value: 0.5049265668169259 and parameters: {'learning_rate': 0.08837505517913082, 'depth': 7, 'l2_leaf_reg': 3, 'bagging_temperature': 0.339704883870593, 'draw_weight': 1.1747024491546791}. Best is trial 22 with value: 0.5056827104842228.\n",
      "Результаты сохранены в 'optuna_results.csv'\n",
      "30 trial, accuracy = 50.5%\n"
     ]
    },
    {
     "data": {
      "application/vnd.jupyter.widget-view+json": {
       "model_id": "6f9eb467ec3c4ad887ad19c69ad2c5cf",
       "version_major": 2,
       "version_minor": 0
      },
      "text/plain": [
       "  0%|          | 0/1 [00:00<?, ?it/s]"
      ]
     },
     "metadata": {},
     "output_type": "display_data"
    },
    {
     "name": "stdout",
     "output_type": "stream",
     "text": [
      "Trial 31, accuracy: 50.6%\n",
      "[I 2024-11-29 19:07:22,872] Trial 31 finished with value: 0.5055314817507635 and parameters: {'learning_rate': 0.050492656769637545, 'depth': 6, 'l2_leaf_reg': 3, 'bagging_temperature': 0.42676371041883554, 'draw_weight': 1.0829796754491614}. Best is trial 22 with value: 0.5056827104842228.\n",
      "Оптимизация прервана. Результаты сохранены.\n",
      "Best hyperparameters:  {'learning_rate': 0.030708578714718104, 'depth': 8, 'l2_leaf_reg': 1, 'bagging_temperature': 0.10197588421707271, 'draw_weight': 1.004161718918664}\n",
      "Best accuracy:  0.5056827104842228\n"
     ]
    }
   ],
   "source": [
    "# Loading existing results\n",
    "results_df = load_results()\n",
    "if results_df is not None:\n",
    "    print(\"Загруженные результаты:\")\n",
    "    print(results_df)\n",
    "    start_trial = len(results_df)  # Starting iteration\n",
    "else:\n",
    "    start_trial = 0  # If no existing results, start with 0\n",
    "\n",
    "# New study\n",
    "study = optuna.create_study(direction='maximize', study_name=\"BB_predictions\")\n",
    "\n",
    "# Hyperparametres optimisation\n",
    "try:\n",
    "    for i in range(start_trial, 200):  # Start from last iteration\n",
    "        study.optimize(objective, n_trials=1, n_jobs=6, show_progress_bar=True)\n",
    "        last_trial = study.trials[-1]\n",
    "        accuracy = last_trial.value\n",
    "        save_results(study)  # Save results after each iteration\n",
    "except KeyboardInterrupt:\n",
    "    print(\"Optimization interrupted. results saved.\")\n",
    "\n",
    "# Best results and accuracy\n",
    "print(\"Best hyperparameters: \", study.best_params)\n",
    "print(\"Best accuracy: \", study.best_value)"
   ]
  },
  {
   "cell_type": "markdown",
   "id": "f7c43a99-a7a9-4a17-90a0-17ea35b9c266",
   "metadata": {},
   "source": [
    "# Saving best model"
   ]
  },
  {
   "cell_type": "code",
   "execution_count": 21,
   "id": "5e9a1862-6d3c-4406-8375-8c1b2e5f4e87",
   "metadata": {},
   "outputs": [
    {
     "name": "stderr",
     "output_type": "stream",
     "text": [
      "[I 2024-12-04 18:37:06,651] A new study created in memory with name: BB_predictions\n"
     ]
    },
    {
     "name": "stdout",
     "output_type": "stream",
     "text": [
      "Study 'BB_predictions' восстановлен с 31 trial(s).\n"
     ]
    }
   ],
   "source": [
    "# Load data from CSV\n",
    "dfs = pd.read_csv('optuna_results.csv')\n",
    "\n",
    "# Make new study\n",
    "study_name = \"BB_predictions\"  # Our study name\n",
    "\n",
    "# Create or load study\n",
    "study = optuna.create_study(study_name=study_name, direction='maximize', load_if_exists=True)\n",
    "\n",
    "# Add results to study\n",
    "for index, row in dfs.iterrows():\n",
    "    # Extract data\n",
    "    trial_number = row['number']\n",
    "    value = row['value']\n",
    "    params = {\n",
    "        'learning_rate': row['params_learning_rate'],\n",
    "        'depth': row['params_depth'],\n",
    "        'l2_leaf_reg': row['params_l2_leaf_reg'],\n",
    "        'bagging_temperature': row['params_bagging_temperature'],\n",
    "        'draw_weight': row['params_draw_weight']\n",
    "    }\n",
    "    state = row['state']\n",
    "\n",
    "    # Change date to datetime\n",
    "    datetime_start = pd.to_datetime(row['datetime_start'])\n",
    "    datetime_complete = pd.to_datetime(row['datetime_complete'])\n",
    "\n",
    "    # Make distributions\n",
    "    distributions = {\n",
    "        'learning_rate': optuna.distributions.FloatDistribution(low=0.01, high=0.5, log=True),\n",
    "        'depth': optuna.distributions.IntDistribution(low=4, high=10),\n",
    "        'l2_leaf_reg': optuna.distributions.IntDistribution(low=1, high=20),\n",
    "        'bagging_temperature': optuna.distributions.FloatDistribution(low=0.0, high=1.0),\n",
    "        'draw_weight': optuna.distributions.FloatDistribution(low=1.0, high=2.0)\n",
    "    }\n",
    "\n",
    "    # Make new trial and add results\n",
    "    study.add_trial(optuna.trial.FrozenTrial(\n",
    "        number=trial_number,\n",
    "        value=value,\n",
    "        params=params,\n",
    "        state=optuna.trial.TrialState.COMPLETE if state == 'COMPLETE' else optuna.trial.TrialState.FAIL,\n",
    "        datetime_start=datetime_start,\n",
    "        datetime_complete=datetime_complete,\n",
    "        distributions=distributions,\n",
    "        user_attrs={},\n",
    "        system_attrs={},\n",
    "        intermediate_values={},\n",
    "        trial_id=trial_number  # Use trial_number as trial_id\n",
    "    ))\n",
    "\n",
    "# Now our study is restored from previously saved DataFrame\n",
    "print(f\"Study '{study_name}' restored with {len(study.trials)} trial(s).\")"
   ]
  },
  {
   "cell_type": "code",
   "execution_count": 21,
   "id": "8634bc47-4224-49e6-ac26-2f46c14619dc",
   "metadata": {},
   "outputs": [
    {
     "data": {
      "text/html": [
       "<div>\n",
       "<style scoped>\n",
       "    .dataframe tbody tr th:only-of-type {\n",
       "        vertical-align: middle;\n",
       "    }\n",
       "\n",
       "    .dataframe tbody tr th {\n",
       "        vertical-align: top;\n",
       "    }\n",
       "\n",
       "    .dataframe thead th {\n",
       "        text-align: right;\n",
       "    }\n",
       "</style>\n",
       "<table border=\"1\" class=\"dataframe\">\n",
       "  <thead>\n",
       "    <tr style=\"text-align: right;\">\n",
       "      <th></th>\n",
       "      <th>number</th>\n",
       "      <th>value</th>\n",
       "      <th>datetime_start</th>\n",
       "      <th>datetime_complete</th>\n",
       "      <th>duration</th>\n",
       "      <th>params_bagging_temperature</th>\n",
       "      <th>params_depth</th>\n",
       "      <th>params_draw_weight</th>\n",
       "      <th>params_l2_leaf_reg</th>\n",
       "      <th>params_learning_rate</th>\n",
       "      <th>state</th>\n",
       "    </tr>\n",
       "  </thead>\n",
       "  <tbody>\n",
       "    <tr>\n",
       "      <th>0</th>\n",
       "      <td>0</td>\n",
       "      <td>0.504761</td>\n",
       "      <td>2024-11-28 14:50:03.472085</td>\n",
       "      <td>2024-11-28 15:54:51.741261</td>\n",
       "      <td>0 days 01:04:48.269176</td>\n",
       "      <td>0.338451</td>\n",
       "      <td>5</td>\n",
       "      <td>1.061414</td>\n",
       "      <td>16</td>\n",
       "      <td>0.015247</td>\n",
       "      <td>COMPLETE</td>\n",
       "    </tr>\n",
       "    <tr>\n",
       "      <th>1</th>\n",
       "      <td>1</td>\n",
       "      <td>0.499372</td>\n",
       "      <td>2024-11-28 15:54:51.756911</td>\n",
       "      <td>2024-11-28 16:27:38.254965</td>\n",
       "      <td>0 days 00:32:46.498054</td>\n",
       "      <td>0.896268</td>\n",
       "      <td>6</td>\n",
       "      <td>1.782052</td>\n",
       "      <td>10</td>\n",
       "      <td>0.039786</td>\n",
       "      <td>COMPLETE</td>\n",
       "    </tr>\n",
       "    <tr>\n",
       "      <th>2</th>\n",
       "      <td>2</td>\n",
       "      <td>0.505180</td>\n",
       "      <td>2024-11-28 16:27:38.270582</td>\n",
       "      <td>2024-11-28 16:59:04.505462</td>\n",
       "      <td>0 days 00:31:26.234880</td>\n",
       "      <td>0.695701</td>\n",
       "      <td>5</td>\n",
       "      <td>1.038782</td>\n",
       "      <td>7</td>\n",
       "      <td>0.096362</td>\n",
       "      <td>COMPLETE</td>\n",
       "    </tr>\n",
       "    <tr>\n",
       "      <th>3</th>\n",
       "      <td>3</td>\n",
       "      <td>0.503978</td>\n",
       "      <td>2024-11-28 16:59:04.521088</td>\n",
       "      <td>2024-11-28 17:51:04.985043</td>\n",
       "      <td>0 days 00:52:00.463955</td>\n",
       "      <td>0.925279</td>\n",
       "      <td>4</td>\n",
       "      <td>1.226989</td>\n",
       "      <td>14</td>\n",
       "      <td>0.012665</td>\n",
       "      <td>COMPLETE</td>\n",
       "    </tr>\n",
       "    <tr>\n",
       "      <th>4</th>\n",
       "      <td>4</td>\n",
       "      <td>0.504377</td>\n",
       "      <td>2024-11-28 17:51:05.000659</td>\n",
       "      <td>2024-11-28 18:04:53.164202</td>\n",
       "      <td>0 days 00:13:48.163543</td>\n",
       "      <td>0.299284</td>\n",
       "      <td>5</td>\n",
       "      <td>1.512319</td>\n",
       "      <td>8</td>\n",
       "      <td>0.178779</td>\n",
       "      <td>COMPLETE</td>\n",
       "    </tr>\n",
       "    <tr>\n",
       "      <th>5</th>\n",
       "      <td>5</td>\n",
       "      <td>0.492948</td>\n",
       "      <td>2024-11-28 18:04:53.182508</td>\n",
       "      <td>2024-11-28 19:01:04.001893</td>\n",
       "      <td>0 days 00:56:10.819385</td>\n",
       "      <td>0.442813</td>\n",
       "      <td>8</td>\n",
       "      <td>1.898262</td>\n",
       "      <td>12</td>\n",
       "      <td>0.013290</td>\n",
       "      <td>COMPLETE</td>\n",
       "    </tr>\n",
       "    <tr>\n",
       "      <th>6</th>\n",
       "      <td>6</td>\n",
       "      <td>0.505377</td>\n",
       "      <td>2024-11-28 19:01:04.023574</td>\n",
       "      <td>2024-11-28 20:25:42.103996</td>\n",
       "      <td>0 days 01:24:38.080422</td>\n",
       "      <td>0.050632</td>\n",
       "      <td>8</td>\n",
       "      <td>1.240475</td>\n",
       "      <td>10</td>\n",
       "      <td>0.025903</td>\n",
       "      <td>COMPLETE</td>\n",
       "    </tr>\n",
       "    <tr>\n",
       "      <th>7</th>\n",
       "      <td>7</td>\n",
       "      <td>0.503150</td>\n",
       "      <td>2024-11-28 20:25:42.128504</td>\n",
       "      <td>2024-11-28 20:37:42.953638</td>\n",
       "      <td>0 days 00:12:00.825134</td>\n",
       "      <td>0.028256</td>\n",
       "      <td>6</td>\n",
       "      <td>1.651840</td>\n",
       "      <td>19</td>\n",
       "      <td>0.325689</td>\n",
       "      <td>COMPLETE</td>\n",
       "    </tr>\n",
       "    <tr>\n",
       "      <th>8</th>\n",
       "      <td>8</td>\n",
       "      <td>0.505235</td>\n",
       "      <td>2024-11-28 20:37:42.970932</td>\n",
       "      <td>2024-11-28 21:14:31.702307</td>\n",
       "      <td>0 days 00:36:48.731375</td>\n",
       "      <td>0.520642</td>\n",
       "      <td>6</td>\n",
       "      <td>1.326169</td>\n",
       "      <td>11</td>\n",
       "      <td>0.118524</td>\n",
       "      <td>COMPLETE</td>\n",
       "    </tr>\n",
       "    <tr>\n",
       "      <th>9</th>\n",
       "      <td>9</td>\n",
       "      <td>0.504993</td>\n",
       "      <td>2024-11-28 21:14:31.717900</td>\n",
       "      <td>2024-11-28 21:28:51.825848</td>\n",
       "      <td>0 days 00:14:20.107948</td>\n",
       "      <td>0.484519</td>\n",
       "      <td>4</td>\n",
       "      <td>1.349868</td>\n",
       "      <td>4</td>\n",
       "      <td>0.134237</td>\n",
       "      <td>COMPLETE</td>\n",
       "    </tr>\n",
       "    <tr>\n",
       "      <th>10</th>\n",
       "      <td>10</td>\n",
       "      <td>0.504400</td>\n",
       "      <td>2024-11-28 21:28:51.841477</td>\n",
       "      <td>2024-11-28 22:55:30.538568</td>\n",
       "      <td>0 days 01:26:38.697091</td>\n",
       "      <td>0.066083</td>\n",
       "      <td>10</td>\n",
       "      <td>1.515128</td>\n",
       "      <td>1</td>\n",
       "      <td>0.040564</td>\n",
       "      <td>COMPLETE</td>\n",
       "    </tr>\n",
       "    <tr>\n",
       "      <th>11</th>\n",
       "      <td>11</td>\n",
       "      <td>0.505171</td>\n",
       "      <td>2024-11-28 22:55:30.566399</td>\n",
       "      <td>2024-11-29 00:22:37.453533</td>\n",
       "      <td>0 days 01:27:06.887134</td>\n",
       "      <td>0.705115</td>\n",
       "      <td>8</td>\n",
       "      <td>1.268912</td>\n",
       "      <td>10</td>\n",
       "      <td>0.043651</td>\n",
       "      <td>COMPLETE</td>\n",
       "    </tr>\n",
       "    <tr>\n",
       "      <th>12</th>\n",
       "      <td>12</td>\n",
       "      <td>0.504656</td>\n",
       "      <td>2024-11-29 00:22:37.539536</td>\n",
       "      <td>2024-11-29 01:08:57.265105</td>\n",
       "      <td>0 days 00:46:19.725569</td>\n",
       "      <td>0.175417</td>\n",
       "      <td>8</td>\n",
       "      <td>1.379644</td>\n",
       "      <td>14</td>\n",
       "      <td>0.025228</td>\n",
       "      <td>COMPLETE</td>\n",
       "    </tr>\n",
       "    <tr>\n",
       "      <th>13</th>\n",
       "      <td>13</td>\n",
       "      <td>0.503772</td>\n",
       "      <td>2024-11-29 01:08:57.306084</td>\n",
       "      <td>2024-11-29 01:48:39.471393</td>\n",
       "      <td>0 days 00:39:42.165309</td>\n",
       "      <td>0.625505</td>\n",
       "      <td>10</td>\n",
       "      <td>1.172137</td>\n",
       "      <td>6</td>\n",
       "      <td>0.476814</td>\n",
       "      <td>COMPLETE</td>\n",
       "    </tr>\n",
       "    <tr>\n",
       "      <th>14</th>\n",
       "      <td>14</td>\n",
       "      <td>0.505366</td>\n",
       "      <td>2024-11-29 01:48:39.509027</td>\n",
       "      <td>2024-11-29 02:35:34.480838</td>\n",
       "      <td>0 days 00:46:54.971811</td>\n",
       "      <td>0.233699</td>\n",
       "      <td>7</td>\n",
       "      <td>1.407148</td>\n",
       "      <td>12</td>\n",
       "      <td>0.067818</td>\n",
       "      <td>COMPLETE</td>\n",
       "    </tr>\n",
       "    <tr>\n",
       "      <th>15</th>\n",
       "      <td>15</td>\n",
       "      <td>0.503074</td>\n",
       "      <td>2024-11-29 02:35:34.504149</td>\n",
       "      <td>2024-11-29 03:17:25.500495</td>\n",
       "      <td>0 days 00:41:50.996346</td>\n",
       "      <td>0.163103</td>\n",
       "      <td>9</td>\n",
       "      <td>1.665316</td>\n",
       "      <td>20</td>\n",
       "      <td>0.063187</td>\n",
       "      <td>COMPLETE</td>\n",
       "    </tr>\n",
       "    <tr>\n",
       "      <th>16</th>\n",
       "      <td>16</td>\n",
       "      <td>0.505107</td>\n",
       "      <td>2024-11-29 03:17:25.520684</td>\n",
       "      <td>2024-11-29 04:32:49.329815</td>\n",
       "      <td>0 days 01:15:23.809131</td>\n",
       "      <td>0.215607</td>\n",
       "      <td>7</td>\n",
       "      <td>1.406018</td>\n",
       "      <td>17</td>\n",
       "      <td>0.022517</td>\n",
       "      <td>COMPLETE</td>\n",
       "    </tr>\n",
       "    <tr>\n",
       "      <th>17</th>\n",
       "      <td>17</td>\n",
       "      <td>0.505281</td>\n",
       "      <td>2024-11-29 04:32:49.361645</td>\n",
       "      <td>2024-11-29 04:56:51.873258</td>\n",
       "      <td>0 days 00:24:02.511613</td>\n",
       "      <td>0.011488</td>\n",
       "      <td>7</td>\n",
       "      <td>1.168588</td>\n",
       "      <td>13</td>\n",
       "      <td>0.065266</td>\n",
       "      <td>COMPLETE</td>\n",
       "    </tr>\n",
       "    <tr>\n",
       "      <th>18</th>\n",
       "      <td>18</td>\n",
       "      <td>0.503819</td>\n",
       "      <td>2024-11-29 04:56:51.888878</td>\n",
       "      <td>2024-11-29 06:09:51.586180</td>\n",
       "      <td>0 days 01:12:59.697302</td>\n",
       "      <td>0.318099</td>\n",
       "      <td>9</td>\n",
       "      <td>1.618496</td>\n",
       "      <td>9</td>\n",
       "      <td>0.023879</td>\n",
       "      <td>COMPLETE</td>\n",
       "    </tr>\n",
       "    <tr>\n",
       "      <th>19</th>\n",
       "      <td>19</td>\n",
       "      <td>0.504688</td>\n",
       "      <td>2024-11-29 06:09:51.601817</td>\n",
       "      <td>2024-11-29 06:37:40.516785</td>\n",
       "      <td>0 days 00:27:48.914968</td>\n",
       "      <td>0.143623</td>\n",
       "      <td>9</td>\n",
       "      <td>1.424811</td>\n",
       "      <td>5</td>\n",
       "      <td>0.175619</td>\n",
       "      <td>COMPLETE</td>\n",
       "    </tr>\n",
       "    <tr>\n",
       "      <th>20</th>\n",
       "      <td>20</td>\n",
       "      <td>0.505508</td>\n",
       "      <td>2024-11-29 06:37:40.532405</td>\n",
       "      <td>2024-11-29 08:01:29.322753</td>\n",
       "      <td>0 days 01:23:48.790348</td>\n",
       "      <td>0.272701</td>\n",
       "      <td>7</td>\n",
       "      <td>1.129436</td>\n",
       "      <td>3</td>\n",
       "      <td>0.031965</td>\n",
       "      <td>COMPLETE</td>\n",
       "    </tr>\n",
       "    <tr>\n",
       "      <th>21</th>\n",
       "      <td>21</td>\n",
       "      <td>0.505374</td>\n",
       "      <td>2024-11-29 08:01:29.338379</td>\n",
       "      <td>2024-11-29 08:51:39.989834</td>\n",
       "      <td>0 days 00:50:10.651455</td>\n",
       "      <td>0.260485</td>\n",
       "      <td>7</td>\n",
       "      <td>1.119534</td>\n",
       "      <td>2</td>\n",
       "      <td>0.031568</td>\n",
       "      <td>COMPLETE</td>\n",
       "    </tr>\n",
       "    <tr>\n",
       "      <th>22</th>\n",
       "      <td>22</td>\n",
       "      <td>0.505683</td>\n",
       "      <td>2024-11-29 08:51:40.005460</td>\n",
       "      <td>2024-11-29 10:16:17.910169</td>\n",
       "      <td>0 days 01:24:37.904709</td>\n",
       "      <td>0.101976</td>\n",
       "      <td>8</td>\n",
       "      <td>1.004162</td>\n",
       "      <td>1</td>\n",
       "      <td>0.030709</td>\n",
       "      <td>COMPLETE</td>\n",
       "    </tr>\n",
       "    <tr>\n",
       "      <th>23</th>\n",
       "      <td>23</td>\n",
       "      <td>0.504999</td>\n",
       "      <td>2024-11-29 10:16:17.941421</td>\n",
       "      <td>2024-11-29 11:06:00.571319</td>\n",
       "      <td>0 days 00:49:42.629898</td>\n",
       "      <td>0.106204</td>\n",
       "      <td>8</td>\n",
       "      <td>1.009943</td>\n",
       "      <td>3</td>\n",
       "      <td>0.017613</td>\n",
       "      <td>COMPLETE</td>\n",
       "    </tr>\n",
       "    <tr>\n",
       "      <th>24</th>\n",
       "      <td>24</td>\n",
       "      <td>0.505284</td>\n",
       "      <td>2024-11-29 11:06:00.586934</td>\n",
       "      <td>2024-11-29 12:19:44.763278</td>\n",
       "      <td>0 days 01:13:44.176344</td>\n",
       "      <td>0.377527</td>\n",
       "      <td>8</td>\n",
       "      <td>1.118833</td>\n",
       "      <td>1</td>\n",
       "      <td>0.030881</td>\n",
       "      <td>COMPLETE</td>\n",
       "    </tr>\n",
       "    <tr>\n",
       "      <th>25</th>\n",
       "      <td>25</td>\n",
       "      <td>0.504892</td>\n",
       "      <td>2024-11-29 12:19:44.786278</td>\n",
       "      <td>2024-11-29 14:20:26.422440</td>\n",
       "      <td>0 days 02:00:41.636162</td>\n",
       "      <td>0.114254</td>\n",
       "      <td>9</td>\n",
       "      <td>1.267757</td>\n",
       "      <td>4</td>\n",
       "      <td>0.010163</td>\n",
       "      <td>COMPLETE</td>\n",
       "    </tr>\n",
       "    <tr>\n",
       "      <th>26</th>\n",
       "      <td>26</td>\n",
       "      <td>0.505540</td>\n",
       "      <td>2024-11-29 14:20:26.445441</td>\n",
       "      <td>2024-11-29 15:26:37.725084</td>\n",
       "      <td>0 days 01:06:11.279643</td>\n",
       "      <td>0.397837</td>\n",
       "      <td>6</td>\n",
       "      <td>1.097397</td>\n",
       "      <td>3</td>\n",
       "      <td>0.051646</td>\n",
       "      <td>COMPLETE</td>\n",
       "    </tr>\n",
       "    <tr>\n",
       "      <th>27</th>\n",
       "      <td>27</td>\n",
       "      <td>0.505418</td>\n",
       "      <td>2024-11-29 15:26:37.754089</td>\n",
       "      <td>2024-11-29 16:36:17.614359</td>\n",
       "      <td>0 days 01:09:39.860270</td>\n",
       "      <td>0.404070</td>\n",
       "      <td>6</td>\n",
       "      <td>1.098353</td>\n",
       "      <td>3</td>\n",
       "      <td>0.048555</td>\n",
       "      <td>COMPLETE</td>\n",
       "    </tr>\n",
       "    <tr>\n",
       "      <th>28</th>\n",
       "      <td>28</td>\n",
       "      <td>0.486040</td>\n",
       "      <td>2024-11-29 16:36:17.640445</td>\n",
       "      <td>2024-11-29 16:54:18.781266</td>\n",
       "      <td>0 days 00:18:01.140821</td>\n",
       "      <td>0.492832</td>\n",
       "      <td>6</td>\n",
       "      <td>1.995190</td>\n",
       "      <td>6</td>\n",
       "      <td>0.053293</td>\n",
       "      <td>COMPLETE</td>\n",
       "    </tr>\n",
       "    <tr>\n",
       "      <th>29</th>\n",
       "      <td>29</td>\n",
       "      <td>0.504999</td>\n",
       "      <td>2024-11-29 16:54:18.802540</td>\n",
       "      <td>2024-11-29 17:59:42.678021</td>\n",
       "      <td>0 days 01:05:23.875481</td>\n",
       "      <td>0.574993</td>\n",
       "      <td>5</td>\n",
       "      <td>1.027227</td>\n",
       "      <td>1</td>\n",
       "      <td>0.017768</td>\n",
       "      <td>COMPLETE</td>\n",
       "    </tr>\n",
       "    <tr>\n",
       "      <th>30</th>\n",
       "      <td>30</td>\n",
       "      <td>0.504927</td>\n",
       "      <td>2024-11-29 17:59:42.693644</td>\n",
       "      <td>2024-11-29 18:18:47.730990</td>\n",
       "      <td>0 days 00:19:05.037346</td>\n",
       "      <td>0.339705</td>\n",
       "      <td>7</td>\n",
       "      <td>1.174702</td>\n",
       "      <td>3</td>\n",
       "      <td>0.088375</td>\n",
       "      <td>COMPLETE</td>\n",
       "    </tr>\n",
       "  </tbody>\n",
       "</table>\n",
       "</div>"
      ],
      "text/plain": [
       "    number     value              datetime_start           datetime_complete  \\\n",
       "0        0  0.504761  2024-11-28 14:50:03.472085  2024-11-28 15:54:51.741261   \n",
       "1        1  0.499372  2024-11-28 15:54:51.756911  2024-11-28 16:27:38.254965   \n",
       "2        2  0.505180  2024-11-28 16:27:38.270582  2024-11-28 16:59:04.505462   \n",
       "3        3  0.503978  2024-11-28 16:59:04.521088  2024-11-28 17:51:04.985043   \n",
       "4        4  0.504377  2024-11-28 17:51:05.000659  2024-11-28 18:04:53.164202   \n",
       "5        5  0.492948  2024-11-28 18:04:53.182508  2024-11-28 19:01:04.001893   \n",
       "6        6  0.505377  2024-11-28 19:01:04.023574  2024-11-28 20:25:42.103996   \n",
       "7        7  0.503150  2024-11-28 20:25:42.128504  2024-11-28 20:37:42.953638   \n",
       "8        8  0.505235  2024-11-28 20:37:42.970932  2024-11-28 21:14:31.702307   \n",
       "9        9  0.504993  2024-11-28 21:14:31.717900  2024-11-28 21:28:51.825848   \n",
       "10      10  0.504400  2024-11-28 21:28:51.841477  2024-11-28 22:55:30.538568   \n",
       "11      11  0.505171  2024-11-28 22:55:30.566399  2024-11-29 00:22:37.453533   \n",
       "12      12  0.504656  2024-11-29 00:22:37.539536  2024-11-29 01:08:57.265105   \n",
       "13      13  0.503772  2024-11-29 01:08:57.306084  2024-11-29 01:48:39.471393   \n",
       "14      14  0.505366  2024-11-29 01:48:39.509027  2024-11-29 02:35:34.480838   \n",
       "15      15  0.503074  2024-11-29 02:35:34.504149  2024-11-29 03:17:25.500495   \n",
       "16      16  0.505107  2024-11-29 03:17:25.520684  2024-11-29 04:32:49.329815   \n",
       "17      17  0.505281  2024-11-29 04:32:49.361645  2024-11-29 04:56:51.873258   \n",
       "18      18  0.503819  2024-11-29 04:56:51.888878  2024-11-29 06:09:51.586180   \n",
       "19      19  0.504688  2024-11-29 06:09:51.601817  2024-11-29 06:37:40.516785   \n",
       "20      20  0.505508  2024-11-29 06:37:40.532405  2024-11-29 08:01:29.322753   \n",
       "21      21  0.505374  2024-11-29 08:01:29.338379  2024-11-29 08:51:39.989834   \n",
       "22      22  0.505683  2024-11-29 08:51:40.005460  2024-11-29 10:16:17.910169   \n",
       "23      23  0.504999  2024-11-29 10:16:17.941421  2024-11-29 11:06:00.571319   \n",
       "24      24  0.505284  2024-11-29 11:06:00.586934  2024-11-29 12:19:44.763278   \n",
       "25      25  0.504892  2024-11-29 12:19:44.786278  2024-11-29 14:20:26.422440   \n",
       "26      26  0.505540  2024-11-29 14:20:26.445441  2024-11-29 15:26:37.725084   \n",
       "27      27  0.505418  2024-11-29 15:26:37.754089  2024-11-29 16:36:17.614359   \n",
       "28      28  0.486040  2024-11-29 16:36:17.640445  2024-11-29 16:54:18.781266   \n",
       "29      29  0.504999  2024-11-29 16:54:18.802540  2024-11-29 17:59:42.678021   \n",
       "30      30  0.504927  2024-11-29 17:59:42.693644  2024-11-29 18:18:47.730990   \n",
       "\n",
       "                  duration  params_bagging_temperature  params_depth  \\\n",
       "0   0 days 01:04:48.269176                    0.338451             5   \n",
       "1   0 days 00:32:46.498054                    0.896268             6   \n",
       "2   0 days 00:31:26.234880                    0.695701             5   \n",
       "3   0 days 00:52:00.463955                    0.925279             4   \n",
       "4   0 days 00:13:48.163543                    0.299284             5   \n",
       "5   0 days 00:56:10.819385                    0.442813             8   \n",
       "6   0 days 01:24:38.080422                    0.050632             8   \n",
       "7   0 days 00:12:00.825134                    0.028256             6   \n",
       "8   0 days 00:36:48.731375                    0.520642             6   \n",
       "9   0 days 00:14:20.107948                    0.484519             4   \n",
       "10  0 days 01:26:38.697091                    0.066083            10   \n",
       "11  0 days 01:27:06.887134                    0.705115             8   \n",
       "12  0 days 00:46:19.725569                    0.175417             8   \n",
       "13  0 days 00:39:42.165309                    0.625505            10   \n",
       "14  0 days 00:46:54.971811                    0.233699             7   \n",
       "15  0 days 00:41:50.996346                    0.163103             9   \n",
       "16  0 days 01:15:23.809131                    0.215607             7   \n",
       "17  0 days 00:24:02.511613                    0.011488             7   \n",
       "18  0 days 01:12:59.697302                    0.318099             9   \n",
       "19  0 days 00:27:48.914968                    0.143623             9   \n",
       "20  0 days 01:23:48.790348                    0.272701             7   \n",
       "21  0 days 00:50:10.651455                    0.260485             7   \n",
       "22  0 days 01:24:37.904709                    0.101976             8   \n",
       "23  0 days 00:49:42.629898                    0.106204             8   \n",
       "24  0 days 01:13:44.176344                    0.377527             8   \n",
       "25  0 days 02:00:41.636162                    0.114254             9   \n",
       "26  0 days 01:06:11.279643                    0.397837             6   \n",
       "27  0 days 01:09:39.860270                    0.404070             6   \n",
       "28  0 days 00:18:01.140821                    0.492832             6   \n",
       "29  0 days 01:05:23.875481                    0.574993             5   \n",
       "30  0 days 00:19:05.037346                    0.339705             7   \n",
       "\n",
       "    params_draw_weight  params_l2_leaf_reg  params_learning_rate     state  \n",
       "0             1.061414                  16              0.015247  COMPLETE  \n",
       "1             1.782052                  10              0.039786  COMPLETE  \n",
       "2             1.038782                   7              0.096362  COMPLETE  \n",
       "3             1.226989                  14              0.012665  COMPLETE  \n",
       "4             1.512319                   8              0.178779  COMPLETE  \n",
       "5             1.898262                  12              0.013290  COMPLETE  \n",
       "6             1.240475                  10              0.025903  COMPLETE  \n",
       "7             1.651840                  19              0.325689  COMPLETE  \n",
       "8             1.326169                  11              0.118524  COMPLETE  \n",
       "9             1.349868                   4              0.134237  COMPLETE  \n",
       "10            1.515128                   1              0.040564  COMPLETE  \n",
       "11            1.268912                  10              0.043651  COMPLETE  \n",
       "12            1.379644                  14              0.025228  COMPLETE  \n",
       "13            1.172137                   6              0.476814  COMPLETE  \n",
       "14            1.407148                  12              0.067818  COMPLETE  \n",
       "15            1.665316                  20              0.063187  COMPLETE  \n",
       "16            1.406018                  17              0.022517  COMPLETE  \n",
       "17            1.168588                  13              0.065266  COMPLETE  \n",
       "18            1.618496                   9              0.023879  COMPLETE  \n",
       "19            1.424811                   5              0.175619  COMPLETE  \n",
       "20            1.129436                   3              0.031965  COMPLETE  \n",
       "21            1.119534                   2              0.031568  COMPLETE  \n",
       "22            1.004162                   1              0.030709  COMPLETE  \n",
       "23            1.009943                   3              0.017613  COMPLETE  \n",
       "24            1.118833                   1              0.030881  COMPLETE  \n",
       "25            1.267757                   4              0.010163  COMPLETE  \n",
       "26            1.097397                   3              0.051646  COMPLETE  \n",
       "27            1.098353                   3              0.048555  COMPLETE  \n",
       "28            1.995190                   6              0.053293  COMPLETE  \n",
       "29            1.027227                   1              0.017768  COMPLETE  \n",
       "30            1.174702                   3              0.088375  COMPLETE  "
      ]
     },
     "execution_count": 21,
     "metadata": {},
     "output_type": "execute_result"
    }
   ],
   "source": [
    "results_df = load_results()\n",
    "results_df"
   ]
  },
  {
   "cell_type": "code",
   "execution_count": 22,
   "id": "337ec9d3-9909-4ece-9eba-3f4348ece2cd",
   "metadata": {},
   "outputs": [
    {
     "data": {
      "text/plain": [
       "0.5056827104842228"
      ]
     },
     "execution_count": 22,
     "metadata": {},
     "output_type": "execute_result"
    }
   ],
   "source": [
    "study.best_value"
   ]
  },
  {
   "cell_type": "code",
   "execution_count": 23,
   "id": "4733bffd-d7e2-425b-8d79-4cb9725c7f58",
   "metadata": {},
   "outputs": [
    {
     "data": {
      "text/plain": [
       "{'learning_rate': 0.0307085787147181,\n",
       " 'depth': 8,\n",
       " 'l2_leaf_reg': 1,\n",
       " 'bagging_temperature': 0.1019758842170727,\n",
       " 'draw_weight': 1.004161718918664}"
      ]
     },
     "execution_count": 23,
     "metadata": {},
     "output_type": "execute_result"
    }
   ],
   "source": [
    "study.best_params"
   ]
  },
  {
   "cell_type": "code",
   "execution_count": 24,
   "id": "30059bef-e232-4e76-981d-c3fd70ea567e",
   "metadata": {},
   "outputs": [],
   "source": [
    "CAT_FEATURES = [\n",
    "    'race',\n",
    "    'opp_race'\n",
    "]\n",
    "\n",
    "FEATURES = [\n",
    "    'value',\n",
    "    'opp_value',\n",
    "    'rating',\n",
    "    'opp_rating'\n",
    "] + CAT_FEATURES\n",
    "\n",
    "TARGET = 'result'"
   ]
  },
  {
   "cell_type": "code",
   "execution_count": 25,
   "id": "dc2cd550-bbed-4ddf-9c9e-0d5f619d54af",
   "metadata": {},
   "outputs": [],
   "source": [
    "random_state = 1\n",
    "X_train_3, X_val_3, y_train_3, y_val_3 = train_test_split(df[FEATURES], df[TARGET], test_size=0.2, random_state=random_state)"
   ]
  },
  {
   "cell_type": "code",
   "execution_count": 26,
   "id": "8954e67c-1673-4eed-a992-e20e6565969a",
   "metadata": {},
   "outputs": [],
   "source": [
    "draw_weight = study.best_params['draw_weight']\n",
    "class_weights = compute_class_weight(class_weight={'D': draw_weight, 'W': 1, 'L': 1} , classes=np.unique(y_train_3), y=y_train_3)\n",
    "class_weights_dict = dict(zip(np.unique(y_train_3), class_weights))\n",
    "\n",
    "train_pool_3 = Pool(X_train_3, y_train_3, cat_features=CAT_FEATURES, weight=[class_weights_dict[label] for label in y_train_3])\n",
    "eval_pool_3 = Pool(X_val_3, y_val_3, cat_features=CAT_FEATURES)"
   ]
  },
  {
   "cell_type": "code",
   "execution_count": 26,
   "id": "aeed8fe3-835b-4828-bf43-4c62928b7beb",
   "metadata": {},
   "outputs": [],
   "source": [
    "model_3 = CatBoostClassifier(\n",
    "    iterations=5000,\n",
    "    learning_rate=study.best_params['learning_rate'],\n",
    "    depth=study.best_params['depth'],\n",
    "    l2_leaf_reg=study.best_params['l2_leaf_reg'],\n",
    "    bagging_temperature=study.best_params['bagging_temperature'],\n",
    "    cat_features=CAT_FEATURES,\n",
    "    loss_function='MultiClass',\n",
    "    eval_metric='Accuracy',\n",
    "    random_seed=random_state,\n",
    "    verbose=100\n",
    ")"
   ]
  },
  {
   "cell_type": "code",
   "execution_count": 28,
   "id": "8642f909-5f51-4f22-a257-a344ac166ddd",
   "metadata": {},
   "outputs": [
    {
     "name": "stdout",
     "output_type": "stream",
     "text": [
      "0:\tlearn: 0.4692427\ttest: 0.4704144\tbest: 0.4704144 (0)\ttotal: 1.38s\tremaining: 1h 55m 16s\n",
      "100:\tlearn: 0.4989615\ttest: 0.5000698\tbest: 0.5000698 (100)\ttotal: 2m 28s\tremaining: 1h 59m 42s\n",
      "200:\tlearn: 0.5013250\ttest: 0.5020881\tbest: 0.5020881 (200)\ttotal: 4m 57s\tremaining: 1h 58m 21s\n",
      "300:\tlearn: 0.5024227\ttest: 0.5032252\tbest: 0.5032369 (297)\ttotal: 7m 26s\tremaining: 1h 56m 17s\n",
      "400:\tlearn: 0.5032154\ttest: 0.5038011\tbest: 0.5038418 (395)\ttotal: 9m 54s\tremaining: 1h 53m 35s\n",
      "500:\tlearn: 0.5039180\ttest: 0.5040570\tbest: 0.5040861 (499)\ttotal: 12m 22s\tremaining: 1h 51m 8s\n",
      "600:\tlearn: 0.5045167\ttest: 0.5041588\tbest: 0.5041588 (600)\ttotal: 14m 52s\tremaining: 1h 48m 49s\n",
      "700:\tlearn: 0.5051880\ttest: 0.5043362\tbest: 0.5043449 (698)\ttotal: 17m 20s\tremaining: 1h 46m 23s\n",
      "800:\tlearn: 0.5055673\ttest: 0.5045369\tbest: 0.5045776 (768)\ttotal: 19m 54s\tremaining: 1h 44m 19s\n",
      "900:\tlearn: 0.5059510\ttest: 0.5046997\tbest: 0.5048568 (861)\ttotal: 22m 36s\tremaining: 1h 42m 51s\n",
      "1000:\tlearn: 0.5063114\ttest: 0.5048451\tbest: 0.5048684 (997)\ttotal: 24m 50s\tremaining: 1h 39m 15s\n",
      "1100:\tlearn: 0.5066965\ttest: 0.5050167\tbest: 0.5051127 (1085)\ttotal: 27m 1s\tremaining: 1h 35m 42s\n",
      "1200:\tlearn: 0.5071034\ttest: 0.5050836\tbest: 0.5051243 (1182)\ttotal: 29m 12s\tremaining: 1h 32m 24s\n",
      "1300:\tlearn: 0.5074776\ttest: 0.5051505\tbest: 0.5051709 (1296)\ttotal: 31m 22s\tremaining: 1h 29m 11s\n",
      "1400:\tlearn: 0.5078060\ttest: 0.5050545\tbest: 0.5051970 (1336)\ttotal: 33m 51s\tremaining: 1h 26m 58s\n",
      "1500:\tlearn: 0.5082195\ttest: 0.5051069\tbest: 0.5051970 (1336)\ttotal: 36m 23s\tremaining: 1h 24m 50s\n",
      "1600:\tlearn: 0.5085363\ttest: 0.5052407\tbest: 0.5052465 (1597)\ttotal: 38m 52s\tremaining: 1h 22m 32s\n",
      "1700:\tlearn: 0.5088546\ttest: 0.5052290\tbest: 0.5053424 (1649)\ttotal: 41m 28s\tremaining: 1h 20m 26s\n",
      "1800:\tlearn: 0.5092164\ttest: 0.5053890\tbest: 0.5054471 (1777)\ttotal: 44m\tremaining: 1h 18m 10s\n",
      "1900:\tlearn: 0.5094679\ttest: 0.5054442\tbest: 0.5054879 (1884)\ttotal: 46m 32s\tremaining: 1h 15m 52s\n",
      "2000:\tlearn: 0.5097731\ttest: 0.5054355\tbest: 0.5054879 (1884)\ttotal: 49m 5s\tremaining: 1h 13m 34s\n",
      "2100:\tlearn: 0.5100369\ttest: 0.5054122\tbest: 0.5054879 (1884)\ttotal: 51m 39s\tremaining: 1h 11m 16s\n",
      "2200:\tlearn: 0.5103595\ttest: 0.5053890\tbest: 0.5054879 (1884)\ttotal: 54m 15s\tremaining: 1h 9m\n",
      "2300:\tlearn: 0.5105740\ttest: 0.5053337\tbest: 0.5054879 (1884)\ttotal: 56m 50s\tremaining: 1h 6m 40s\n",
      "2400:\tlearn: 0.5107898\ttest: 0.5053163\tbest: 0.5054879 (1884)\ttotal: 59m 26s\tremaining: 1h 4m 20s\n",
      "2500:\tlearn: 0.5110929\ttest: 0.5052319\tbest: 0.5054879 (1884)\ttotal: 1h 1m 51s\tremaining: 1h 1m 48s\n",
      "2600:\tlearn: 0.5113959\ttest: 0.5052988\tbest: 0.5054879 (1884)\ttotal: 1h 4m 53s\tremaining: 59m 51s\n",
      "2700:\tlearn: 0.5116408\ttest: 0.5052319\tbest: 0.5054879 (1884)\ttotal: 1h 7m 52s\tremaining: 57m 46s\n",
      "2800:\tlearn: 0.5118327\ttest: 0.5052959\tbest: 0.5054879 (1884)\ttotal: 1h 10m 55s\tremaining: 55m 40s\n",
      "2900:\tlearn: 0.5120137\ttest: 0.5053134\tbest: 0.5054879 (1884)\ttotal: 1h 14m 3s\tremaining: 53m 35s\n",
      "3000:\tlearn: 0.5123996\ttest: 0.5054006\tbest: 0.5054879 (1884)\ttotal: 1h 17m\tremaining: 51m 17s\n",
      "3100:\tlearn: 0.5126910\ttest: 0.5053744\tbest: 0.5054879 (1884)\ttotal: 1h 20m 1s\tremaining: 49m\n",
      "3200:\tlearn: 0.5129694\ttest: 0.5054210\tbest: 0.5054879 (1884)\ttotal: 1h 23m 3s\tremaining: 46m 40s\n",
      "3300:\tlearn: 0.5132426\ttest: 0.5054268\tbest: 0.5055693 (3253)\ttotal: 1h 26m\tremaining: 44m 15s\n",
      "3400:\tlearn: 0.5134636\ttest: 0.5054675\tbest: 0.5055693 (3253)\ttotal: 1h 28m 58s\tremaining: 41m 49s\n",
      "3500:\tlearn: 0.5137463\ttest: 0.5052872\tbest: 0.5055693 (3253)\ttotal: 1h 31m 58s\tremaining: 39m 22s\n",
      "3600:\tlearn: 0.5139615\ttest: 0.5053454\tbest: 0.5055693 (3253)\ttotal: 1h 35m 7s\tremaining: 36m 57s\n",
      "3700:\tlearn: 0.5141680\ttest: 0.5051156\tbest: 0.5055693 (3253)\ttotal: 1h 38m 12s\tremaining: 34m 28s\n",
      "3800:\tlearn: 0.5144311\ttest: 0.5051476\tbest: 0.5055693 (3253)\ttotal: 1h 41m 18s\tremaining: 31m 57s\n",
      "3900:\tlearn: 0.5147160\ttest: 0.5051534\tbest: 0.5055693 (3253)\ttotal: 1h 44m 25s\tremaining: 29m 25s\n",
      "4000:\tlearn: 0.5149529\ttest: 0.5051331\tbest: 0.5055693 (3253)\ttotal: 1h 47m 29s\tremaining: 26m 50s\n",
      "4100:\tlearn: 0.5152778\ttest: 0.5051011\tbest: 0.5055693 (3253)\ttotal: 1h 50m 29s\tremaining: 24m 13s\n",
      "4200:\tlearn: 0.5154820\ttest: 0.5051534\tbest: 0.5055693 (3253)\ttotal: 1h 53m 30s\tremaining: 21m 35s\n",
      "4300:\tlearn: 0.5157451\ttest: 0.5051389\tbest: 0.5055693 (3253)\ttotal: 1h 56m 28s\tremaining: 18m 55s\n",
      "4400:\tlearn: 0.5159690\ttest: 0.5051854\tbest: 0.5055693 (3253)\ttotal: 1h 59m 33s\tremaining: 16m 16s\n",
      "4500:\tlearn: 0.5161718\ttest: 0.5052145\tbest: 0.5055693 (3253)\ttotal: 2h 2m 26s\tremaining: 13m 34s\n",
      "4600:\tlearn: 0.5163426\ttest: 0.5051563\tbest: 0.5055693 (3253)\ttotal: 2h 5m 25s\tremaining: 10m 52s\n",
      "4700:\tlearn: 0.5165999\ttest: 0.5051650\tbest: 0.5055693 (3253)\ttotal: 2h 8m 12s\tremaining: 8m 9s\n",
      "4800:\tlearn: 0.5168521\ttest: 0.5051243\tbest: 0.5055693 (3253)\ttotal: 2h 11m\tremaining: 5m 25s\n",
      "4900:\tlearn: 0.5171021\ttest: 0.5050836\tbest: 0.5055693 (3253)\ttotal: 2h 13m 49s\tremaining: 2m 42s\n",
      "4999:\tlearn: 0.5173086\ttest: 0.5051040\tbest: 0.5055693 (3253)\ttotal: 2h 16m 37s\tremaining: 0us\n",
      "\n",
      "bestTest = 0.5055692889\n",
      "bestIteration = 3253\n",
      "\n",
      "Shrink model to first 3254 iterations.\n"
     ]
    },
    {
     "data": {
      "text/plain": [
       "<catboost.core.CatBoostClassifier at 0x196a2423e60>"
      ]
     },
     "execution_count": 28,
     "metadata": {},
     "output_type": "execute_result"
    }
   ],
   "source": [
    "model_3.fit(train_pool_3, eval_set=eval_pool_3, plot=False, verbose=100, use_best_model=True)"
   ]
  },
  {
   "cell_type": "code",
   "execution_count": 29,
   "id": "df4f3bb7-2624-4ce5-84aa-7b1586217a2e",
   "metadata": {},
   "outputs": [],
   "source": [
    "# Save model\n",
    "model_3.save_model('model_3.cbm')"
   ]
  },
  {
   "cell_type": "code",
   "execution_count": 28,
   "id": "567eff13-8171-4c0b-b6cf-d51e1ce904ad",
   "metadata": {},
   "outputs": [],
   "source": [
    "# Load model\n",
    "# model_3 = CatBoostClassifier()\n",
    "# model_3.load_model('model_3.cbm')"
   ]
  },
  {
   "cell_type": "code",
   "execution_count": 15,
   "id": "a71fd7ce-738e-467e-90e0-e3823e226d60",
   "metadata": {},
   "outputs": [
    {
     "name": "stdout",
     "output_type": "stream",
     "text": [
      "Accuracy: 50.9%\n",
      "Classification Report:\n",
      "              precision    recall  f1-score   support\n",
      "\n",
      "           D       0.93      0.00      0.00     60189\n",
      "           L       0.51      0.62      0.56    141842\n",
      "           W       0.51      0.62      0.56    141819\n",
      "\n",
      "    accuracy                           0.51    343850\n",
      "   macro avg       0.65      0.41      0.37    343850\n",
      "weighted avg       0.58      0.51      0.46    343850\n",
      "\n"
     ]
    }
   ],
   "source": [
    "y_pred_3 = model_3.predict(X_val_3)\n",
    "accuracy_3 = accuracy_score(y_val_3, y_pred_3)\n",
    "print(f'Accuracy: {accuracy_3:.1%}')\n",
    "print(\"Classification Report:\")\n",
    "print(classification_report(y_val_3, y_pred_3))"
   ]
  },
  {
   "cell_type": "code",
   "execution_count": 16,
   "id": "9018679d-6bbd-43db-bcce-edff5794d5ce",
   "metadata": {},
   "outputs": [
    {
     "name": "stdout",
     "output_type": "stream",
     "text": [
      "\n",
      "процент побед: 50.0%\n",
      "процент ничьих : 0.0%\n",
      "процент поражений : 50.0%\n",
      "\n"
     ]
    },
    {
     "data": {
      "image/png": "[encoded data removed]",
      "text/plain": [
       "<Figure size 900x600 with 1 Axes>"
      ]
     },
     "metadata": {},
     "output_type": "display_data"
    }
   ],
   "source": [
    "# Predicted results distribution\n",
    "class_counts = pd.Series(y_pred_3.flatten()).value_counts(normalize=False)\n",
    "sum_counts = class_counts.sum()\n",
    "W_weight = class_counts.W / sum_counts\n",
    "D_weight = class_counts.D / sum_counts\n",
    "L_weight = class_counts.L / sum_counts\n",
    "print(f\"\"\"\n",
    "percent of wins: {W_weight:.1%}\n",
    "percent of draws: {D_weight:.1%}\n",
    "percent of losses: {L_weight:.1%}\n",
    "\"\"\")\n",
    "\n",
    "ax = sns.barplot(x=class_counts.index, y=class_counts.values)\n",
    "plt.title('Distribution of Predicted Results (model 3)\\n')\n",
    "plt.xlabel('Results')\n",
    "plt.ylabel('Amount of Results')\n",
    "\n",
    "for p in ax.patches:\n",
    "    count = int(p.get_height())  \n",
    "    ax.annotate(f'{count}', \n",
    "                      (p.get_x() + p.get_width() / 2., p.get_height()), \n",
    "                      ha='center', va='bottom', \n",
    "                      fontsize=20, color='black', \n",
    "                      xytext=(0, 5),\n",
    "                      textcoords='offset points')\n",
    "    \n",
    "sns.despine()"
   ]
  },
  {
   "cell_type": "code",
   "execution_count": 17,
   "id": "93ff4196-3b01-47e6-a783-57c9a531f592",
   "metadata": {},
   "outputs": [
    {
     "name": "stdout",
     "output_type": "stream",
     "text": [
      "Accuracy на тестовых данных: 48.9%\n"
     ]
    }
   ],
   "source": [
    "test_df_3 = test_df[FEATURES + ['result', 'random_result']].copy()\n",
    "probabilities = model_3.predict_proba(test_df_3[FEATURES])\n",
    "for i, class_name in enumerate(model_3.classes_):\n",
    "    test_df_3[f'probability_{class_name}'] = probabilities[:, i]\n",
    "test_df_3['prediction'] = model_3.predict(test_df_3[FEATURES]).flatten()\n",
    "test_accuracy_3 = (test_df_3['result'] == test_df_3['prediction']).mean()\n",
    "\n",
    "print(f'Test data accuracy: {test_accuracy_3:.1%}')"
   ]
  },
  {
   "cell_type": "markdown",
   "id": "c01d96f8-afde-4221-b363-28f3213b6826",
   "metadata": {},
   "source": [
    "Well, that's our best accuracy. Better than random/\n",
    "\n",
    "Model is bad at predicting draws, but since our target metric is accuracy, we'll not improve recall at cost of acuracy."
   ]
  },
  {
   "cell_type": "markdown",
   "id": "88b93475-f90b-40b6-ace2-413621bc33b7",
   "metadata": {},
   "source": [
    "# Feature importance\n",
    "Let's visualize it."
   ]
  },
  {
   "cell_type": "code",
   "execution_count": 29,
   "id": "3756d39a-d0e5-4865-87fa-35e3b5e5b377",
   "metadata": {},
   "outputs": [
    {
     "data": {
      "image/png": "[encoded data removed]",
      "text/plain": [
       "<Figure size 1000x600 with 1 Axes>"
      ]
     },
     "metadata": {},
     "output_type": "display_data"
    }
   ],
   "source": [
    "# Feature importance\n",
    "feature_importances = model_3.get_feature_importance()\n",
    "feature_names = FEATURES\n",
    "\n",
    "importance_df = pd.DataFrame({'Feature': feature_names, 'Importance': feature_importances})\n",
    "importance_df = importance_df.sort_values(by='Importance', ascending=False)\n",
    "\n",
    "plt.figure(figsize=(10, 6))\n",
    "plt.barh(importance_df['Feature'], importance_df['Importance'])\n",
    "plt.xlabel('Importance')\n",
    "plt.title('Feature Importance')\n",
    "plt.show()"
   ]
  },
  {
   "cell_type": "markdown",
   "id": "58cae6ee-1881-42b2-8386-385ecf3e1bde",
   "metadata": {},
   "source": [
    "# Results\n",
    "Goal are mainly reached: \n",
    " - created model, which predicts match results;\n",
    " - higher accuracy, than random predictions;\n",
    " - goblins-bookmakers are panicking.\n",
    "   \n",
    "However, some weak sides:\n",
    "- accuracy is low (about 50%). Probably, Blood Bowl is too random. Or we need better predictors (but these are the easiest and available from in-gave at match start).\n",
    "- model is bad at predicting draws. Recall (D) is almost 0. But this can not be improved without lowering accuracy.\n",
    "- predictions are not always symmetric, i.g., results from opponent's POV not always will be opposite. If we insert similar data for tea, and for opponent, win and loss chances will be different (I can't understand why)."
   ]
  },
  {
   "cell_type": "code",
   "execution_count": null,
   "id": "786a09d3-a120-4684-9a52-2dadc6ddf3dd",
   "metadata": {},
   "outputs": [],
   "source": []
  }
 ],
 "metadata": {
  "kernelspec": {
   "display_name": "Python 3 (ipykernel)",
   "language": "python",
   "name": "python3"
  },
  "language_info": {
   "codemirror_mode": {
    "name": "ipython",
    "version": 3
   },
   "file_extension": ".py",
   "mimetype": "text/x-python",
   "name": "python",
   "nbconvert_exporter": "python",
   "pygments_lexer": "ipython3",
   "version": "3.12.4"
  }
 },
 "nbformat": 4,
 "nbformat_minor": 5
}
